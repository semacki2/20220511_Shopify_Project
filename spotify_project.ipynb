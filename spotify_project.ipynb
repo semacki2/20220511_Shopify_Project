{
 "cells": [
  {
   "cell_type": "markdown",
   "metadata": {},
   "source": [
    "# Shopify Data Science Internship Challenge\n",
    "\n",
    "Author: Seth Mackie\n",
    "Date: 2022-05-11"
   ]
  },
  {
   "cell_type": "markdown",
   "metadata": {},
   "source": [
    "## Step 1: Define the Problem\n",
    "\n",
    "After being provided a dataset, we are given the following prompt:\n",
    "\n",
    "On Shopify, we have exactly 100 sneaker shops, and each of these shops sells only one model of shoe. We want to do some analysis of the average order value (AOV). When we look at orders data over a 30 day window, we naively calculate an AOV of $3145.13. Given that we know these shops are selling sneakers, a relatively affordable item, something seems wrong with our analysis.\n",
    "\n",
    "1. Think about what could be going wrong with our calculation. Think about a better way to evaluate this data. \n",
    "2. What metric would you report for this dataset?\n",
    "3. What is its value?\n",
    "    - Please note that I am interpreting this question 2 ways:\n",
    "    1. What is the numerical value of this metric?\n",
    "    2. Why is this metric valuable?\n"
   ]
  },
  {
   "cell_type": "markdown",
   "metadata": {},
   "source": [
    "## Step 2: Import Libraries\n",
    "Importing standard data science libraries. I didn't end up using numpy."
   ]
  },
  {
   "cell_type": "code",
   "execution_count": 1,
   "metadata": {},
   "outputs": [],
   "source": [
    "import numpy as np\n",
    "import pandas as pd\n",
    "import matplotlib.pyplot as plt\n",
    "import seaborn as sns\n",
    "from scipy import stats\n"
   ]
  },
  {
   "cell_type": "markdown",
   "metadata": {},
   "source": [
    "After downloading the csv file, I load it into a Pandas dataframe."
   ]
  },
  {
   "cell_type": "code",
   "execution_count": 2,
   "metadata": {},
   "outputs": [],
   "source": [
    "df_raw = pd.read_csv('data/spotify_data.csv', parse_dates=True)"
   ]
  },
  {
   "cell_type": "markdown",
   "metadata": {},
   "source": [
    "I make a copy of the dataframe that I can freely play with."
   ]
  },
  {
   "cell_type": "code",
   "execution_count": 3,
   "metadata": {},
   "outputs": [],
   "source": [
    "df = df_raw.copy(deep=True)"
   ]
  },
  {
   "cell_type": "markdown",
   "metadata": {},
   "source": [
    "A first look at some summary statistics of the dataset. \n",
    "\n",
    "I notice that mean value of order_amount is quite high at $3145.13. I also notice that the standard deviation of order_amount is incredibly high at $41282.54. The first, second, and third quartiles all seem reasonable, as does the minimum value, but the maximum value is a bit extreme at $704,000. That's a lot of sneakers. We'll definitely need to look closer at that.\n",
    "\n",
    "I also notice that the standard deviation and maximum values for the total_items column are suspisiously high. We'll need to look closer at that.\n",
    "\n",
    "Lastly, I notice that the create_at column doesn't have numerical summary statistics. I'm assuming it was loaded as a string (object). That's easy to check."
   ]
  },
  {
   "cell_type": "code",
   "execution_count": 4,
   "metadata": {},
   "outputs": [
    {
     "data": {
      "text/html": [
       "<div>\n",
       "<style scoped>\n",
       "    .dataframe tbody tr th:only-of-type {\n",
       "        vertical-align: middle;\n",
       "    }\n",
       "\n",
       "    .dataframe tbody tr th {\n",
       "        vertical-align: top;\n",
       "    }\n",
       "\n",
       "    .dataframe thead th {\n",
       "        text-align: right;\n",
       "    }\n",
       "</style>\n",
       "<table border=\"1\" class=\"dataframe\">\n",
       "  <thead>\n",
       "    <tr style=\"text-align: right;\">\n",
       "      <th></th>\n",
       "      <th>order_id</th>\n",
       "      <th>shop_id</th>\n",
       "      <th>user_id</th>\n",
       "      <th>order_amount</th>\n",
       "      <th>total_items</th>\n",
       "      <th>payment_method</th>\n",
       "      <th>created_at</th>\n",
       "    </tr>\n",
       "  </thead>\n",
       "  <tbody>\n",
       "    <tr>\n",
       "      <th>count</th>\n",
       "      <td>5000.000000</td>\n",
       "      <td>5000.000000</td>\n",
       "      <td>5000.000000</td>\n",
       "      <td>5000.000000</td>\n",
       "      <td>5000.00000</td>\n",
       "      <td>5000</td>\n",
       "      <td>5000</td>\n",
       "    </tr>\n",
       "    <tr>\n",
       "      <th>unique</th>\n",
       "      <td>NaN</td>\n",
       "      <td>NaN</td>\n",
       "      <td>NaN</td>\n",
       "      <td>NaN</td>\n",
       "      <td>NaN</td>\n",
       "      <td>3</td>\n",
       "      <td>4991</td>\n",
       "    </tr>\n",
       "    <tr>\n",
       "      <th>top</th>\n",
       "      <td>NaN</td>\n",
       "      <td>NaN</td>\n",
       "      <td>NaN</td>\n",
       "      <td>NaN</td>\n",
       "      <td>NaN</td>\n",
       "      <td>credit_card</td>\n",
       "      <td>2017-03-28 4:00:00</td>\n",
       "    </tr>\n",
       "    <tr>\n",
       "      <th>freq</th>\n",
       "      <td>NaN</td>\n",
       "      <td>NaN</td>\n",
       "      <td>NaN</td>\n",
       "      <td>NaN</td>\n",
       "      <td>NaN</td>\n",
       "      <td>1735</td>\n",
       "      <td>3</td>\n",
       "    </tr>\n",
       "    <tr>\n",
       "      <th>mean</th>\n",
       "      <td>2500.500000</td>\n",
       "      <td>50.078800</td>\n",
       "      <td>849.092400</td>\n",
       "      <td>3145.128000</td>\n",
       "      <td>8.78720</td>\n",
       "      <td>NaN</td>\n",
       "      <td>NaN</td>\n",
       "    </tr>\n",
       "    <tr>\n",
       "      <th>std</th>\n",
       "      <td>1443.520003</td>\n",
       "      <td>29.006118</td>\n",
       "      <td>87.798982</td>\n",
       "      <td>41282.539349</td>\n",
       "      <td>116.32032</td>\n",
       "      <td>NaN</td>\n",
       "      <td>NaN</td>\n",
       "    </tr>\n",
       "    <tr>\n",
       "      <th>min</th>\n",
       "      <td>1.000000</td>\n",
       "      <td>1.000000</td>\n",
       "      <td>607.000000</td>\n",
       "      <td>90.000000</td>\n",
       "      <td>1.00000</td>\n",
       "      <td>NaN</td>\n",
       "      <td>NaN</td>\n",
       "    </tr>\n",
       "    <tr>\n",
       "      <th>25%</th>\n",
       "      <td>1250.750000</td>\n",
       "      <td>24.000000</td>\n",
       "      <td>775.000000</td>\n",
       "      <td>163.000000</td>\n",
       "      <td>1.00000</td>\n",
       "      <td>NaN</td>\n",
       "      <td>NaN</td>\n",
       "    </tr>\n",
       "    <tr>\n",
       "      <th>50%</th>\n",
       "      <td>2500.500000</td>\n",
       "      <td>50.000000</td>\n",
       "      <td>849.000000</td>\n",
       "      <td>284.000000</td>\n",
       "      <td>2.00000</td>\n",
       "      <td>NaN</td>\n",
       "      <td>NaN</td>\n",
       "    </tr>\n",
       "    <tr>\n",
       "      <th>75%</th>\n",
       "      <td>3750.250000</td>\n",
       "      <td>75.000000</td>\n",
       "      <td>925.000000</td>\n",
       "      <td>390.000000</td>\n",
       "      <td>3.00000</td>\n",
       "      <td>NaN</td>\n",
       "      <td>NaN</td>\n",
       "    </tr>\n",
       "    <tr>\n",
       "      <th>max</th>\n",
       "      <td>5000.000000</td>\n",
       "      <td>100.000000</td>\n",
       "      <td>999.000000</td>\n",
       "      <td>704000.000000</td>\n",
       "      <td>2000.00000</td>\n",
       "      <td>NaN</td>\n",
       "      <td>NaN</td>\n",
       "    </tr>\n",
       "  </tbody>\n",
       "</table>\n",
       "</div>"
      ],
      "text/plain": [
       "           order_id      shop_id      user_id   order_amount  total_items  \\\n",
       "count   5000.000000  5000.000000  5000.000000    5000.000000   5000.00000   \n",
       "unique          NaN          NaN          NaN            NaN          NaN   \n",
       "top             NaN          NaN          NaN            NaN          NaN   \n",
       "freq            NaN          NaN          NaN            NaN          NaN   \n",
       "mean    2500.500000    50.078800   849.092400    3145.128000      8.78720   \n",
       "std     1443.520003    29.006118    87.798982   41282.539349    116.32032   \n",
       "min        1.000000     1.000000   607.000000      90.000000      1.00000   \n",
       "25%     1250.750000    24.000000   775.000000     163.000000      1.00000   \n",
       "50%     2500.500000    50.000000   849.000000     284.000000      2.00000   \n",
       "75%     3750.250000    75.000000   925.000000     390.000000      3.00000   \n",
       "max     5000.000000   100.000000   999.000000  704000.000000   2000.00000   \n",
       "\n",
       "       payment_method          created_at  \n",
       "count            5000                5000  \n",
       "unique              3                4991  \n",
       "top       credit_card  2017-03-28 4:00:00  \n",
       "freq             1735                   3  \n",
       "mean              NaN                 NaN  \n",
       "std               NaN                 NaN  \n",
       "min               NaN                 NaN  \n",
       "25%               NaN                 NaN  \n",
       "50%               NaN                 NaN  \n",
       "75%               NaN                 NaN  \n",
       "max               NaN                 NaN  "
      ]
     },
     "execution_count": 4,
     "metadata": {},
     "output_type": "execute_result"
    }
   ],
   "source": [
    "df.describe(include='all')"
   ]
  },
  {
   "cell_type": "markdown",
   "metadata": {},
   "source": [
    "Let's check data types of each column. We're primarly looking at the created_at column to see if it's a datetime or an object (string) like I suspected."
   ]
  },
  {
   "cell_type": "code",
   "execution_count": 5,
   "metadata": {},
   "outputs": [
    {
     "data": {
      "text/plain": [
       "order_id           int64\n",
       "shop_id            int64\n",
       "user_id            int64\n",
       "order_amount       int64\n",
       "total_items        int64\n",
       "payment_method    object\n",
       "created_at        object\n",
       "dtype: object"
      ]
     },
     "execution_count": 5,
     "metadata": {},
     "output_type": "execute_result"
    }
   ],
   "source": [
    "df.dtypes"
   ]
  },
  {
   "cell_type": "markdown",
   "metadata": {},
   "source": [
    "Yep! It's an object datatype. Let's fix that."
   ]
  },
  {
   "cell_type": "code",
   "execution_count": 6,
   "metadata": {},
   "outputs": [
    {
     "data": {
      "text/plain": [
       "order_id                   int64\n",
       "shop_id                    int64\n",
       "user_id                    int64\n",
       "order_amount               int64\n",
       "total_items                int64\n",
       "payment_method            object\n",
       "created_at        datetime64[ns]\n",
       "dtype: object"
      ]
     },
     "execution_count": 6,
     "metadata": {},
     "output_type": "execute_result"
    }
   ],
   "source": [
    "df['created_at'] = pd.to_datetime(df['created_at'])\n",
    "df.dtypes"
   ]
  },
  {
   "cell_type": "markdown",
   "metadata": {},
   "source": [
    "Much better. Now we can do some analysis."
   ]
  },
  {
   "cell_type": "markdown",
   "metadata": {},
   "source": [
    "## Step 3: Exploratory Data Analysis (Data Mining)"
   ]
  },
  {
   "cell_type": "markdown",
   "metadata": {},
   "source": [
    "One column that I feel could be helpful is a \"price_per_item\" column. Let's add it. Since we know from our instructions that each shop only has one item, we can assume that the price per item is the order_amount divided by the total_items."
   ]
  },
  {
   "cell_type": "code",
   "execution_count": 7,
   "metadata": {},
   "outputs": [
    {
     "data": {
      "text/html": [
       "<div>\n",
       "<style scoped>\n",
       "    .dataframe tbody tr th:only-of-type {\n",
       "        vertical-align: middle;\n",
       "    }\n",
       "\n",
       "    .dataframe tbody tr th {\n",
       "        vertical-align: top;\n",
       "    }\n",
       "\n",
       "    .dataframe thead th {\n",
       "        text-align: right;\n",
       "    }\n",
       "</style>\n",
       "<table border=\"1\" class=\"dataframe\">\n",
       "  <thead>\n",
       "    <tr style=\"text-align: right;\">\n",
       "      <th></th>\n",
       "      <th>order_id</th>\n",
       "      <th>shop_id</th>\n",
       "      <th>user_id</th>\n",
       "      <th>order_amount</th>\n",
       "      <th>total_items</th>\n",
       "      <th>payment_method</th>\n",
       "      <th>created_at</th>\n",
       "      <th>price_per_item</th>\n",
       "    </tr>\n",
       "  </thead>\n",
       "  <tbody>\n",
       "    <tr>\n",
       "      <th>0</th>\n",
       "      <td>1</td>\n",
       "      <td>53</td>\n",
       "      <td>746</td>\n",
       "      <td>224</td>\n",
       "      <td>2</td>\n",
       "      <td>cash</td>\n",
       "      <td>2017-03-13 12:36:56</td>\n",
       "      <td>112.0</td>\n",
       "    </tr>\n",
       "    <tr>\n",
       "      <th>1</th>\n",
       "      <td>2</td>\n",
       "      <td>92</td>\n",
       "      <td>925</td>\n",
       "      <td>90</td>\n",
       "      <td>1</td>\n",
       "      <td>cash</td>\n",
       "      <td>2017-03-03 17:38:52</td>\n",
       "      <td>90.0</td>\n",
       "    </tr>\n",
       "    <tr>\n",
       "      <th>2</th>\n",
       "      <td>3</td>\n",
       "      <td>44</td>\n",
       "      <td>861</td>\n",
       "      <td>144</td>\n",
       "      <td>1</td>\n",
       "      <td>cash</td>\n",
       "      <td>2017-03-14 04:23:56</td>\n",
       "      <td>144.0</td>\n",
       "    </tr>\n",
       "    <tr>\n",
       "      <th>3</th>\n",
       "      <td>4</td>\n",
       "      <td>18</td>\n",
       "      <td>935</td>\n",
       "      <td>156</td>\n",
       "      <td>1</td>\n",
       "      <td>credit_card</td>\n",
       "      <td>2017-03-26 12:43:37</td>\n",
       "      <td>156.0</td>\n",
       "    </tr>\n",
       "    <tr>\n",
       "      <th>4</th>\n",
       "      <td>5</td>\n",
       "      <td>18</td>\n",
       "      <td>883</td>\n",
       "      <td>156</td>\n",
       "      <td>1</td>\n",
       "      <td>credit_card</td>\n",
       "      <td>2017-03-01 04:35:11</td>\n",
       "      <td>156.0</td>\n",
       "    </tr>\n",
       "    <tr>\n",
       "      <th>...</th>\n",
       "      <td>...</td>\n",
       "      <td>...</td>\n",
       "      <td>...</td>\n",
       "      <td>...</td>\n",
       "      <td>...</td>\n",
       "      <td>...</td>\n",
       "      <td>...</td>\n",
       "      <td>...</td>\n",
       "    </tr>\n",
       "    <tr>\n",
       "      <th>4995</th>\n",
       "      <td>4996</td>\n",
       "      <td>73</td>\n",
       "      <td>993</td>\n",
       "      <td>330</td>\n",
       "      <td>2</td>\n",
       "      <td>debit</td>\n",
       "      <td>2017-03-30 13:47:17</td>\n",
       "      <td>165.0</td>\n",
       "    </tr>\n",
       "    <tr>\n",
       "      <th>4996</th>\n",
       "      <td>4997</td>\n",
       "      <td>48</td>\n",
       "      <td>789</td>\n",
       "      <td>234</td>\n",
       "      <td>2</td>\n",
       "      <td>cash</td>\n",
       "      <td>2017-03-16 20:36:16</td>\n",
       "      <td>117.0</td>\n",
       "    </tr>\n",
       "    <tr>\n",
       "      <th>4997</th>\n",
       "      <td>4998</td>\n",
       "      <td>56</td>\n",
       "      <td>867</td>\n",
       "      <td>351</td>\n",
       "      <td>3</td>\n",
       "      <td>cash</td>\n",
       "      <td>2017-03-19 05:42:42</td>\n",
       "      <td>117.0</td>\n",
       "    </tr>\n",
       "    <tr>\n",
       "      <th>4998</th>\n",
       "      <td>4999</td>\n",
       "      <td>60</td>\n",
       "      <td>825</td>\n",
       "      <td>354</td>\n",
       "      <td>2</td>\n",
       "      <td>credit_card</td>\n",
       "      <td>2017-03-16 14:51:18</td>\n",
       "      <td>177.0</td>\n",
       "    </tr>\n",
       "    <tr>\n",
       "      <th>4999</th>\n",
       "      <td>5000</td>\n",
       "      <td>44</td>\n",
       "      <td>734</td>\n",
       "      <td>288</td>\n",
       "      <td>2</td>\n",
       "      <td>debit</td>\n",
       "      <td>2017-03-18 15:48:18</td>\n",
       "      <td>144.0</td>\n",
       "    </tr>\n",
       "  </tbody>\n",
       "</table>\n",
       "<p>5000 rows × 8 columns</p>\n",
       "</div>"
      ],
      "text/plain": [
       "      order_id  shop_id  user_id  order_amount  total_items payment_method  \\\n",
       "0            1       53      746           224            2           cash   \n",
       "1            2       92      925            90            1           cash   \n",
       "2            3       44      861           144            1           cash   \n",
       "3            4       18      935           156            1    credit_card   \n",
       "4            5       18      883           156            1    credit_card   \n",
       "...        ...      ...      ...           ...          ...            ...   \n",
       "4995      4996       73      993           330            2          debit   \n",
       "4996      4997       48      789           234            2           cash   \n",
       "4997      4998       56      867           351            3           cash   \n",
       "4998      4999       60      825           354            2    credit_card   \n",
       "4999      5000       44      734           288            2          debit   \n",
       "\n",
       "              created_at  price_per_item  \n",
       "0    2017-03-13 12:36:56           112.0  \n",
       "1    2017-03-03 17:38:52            90.0  \n",
       "2    2017-03-14 04:23:56           144.0  \n",
       "3    2017-03-26 12:43:37           156.0  \n",
       "4    2017-03-01 04:35:11           156.0  \n",
       "...                  ...             ...  \n",
       "4995 2017-03-30 13:47:17           165.0  \n",
       "4996 2017-03-16 20:36:16           117.0  \n",
       "4997 2017-03-19 05:42:42           117.0  \n",
       "4998 2017-03-16 14:51:18           177.0  \n",
       "4999 2017-03-18 15:48:18           144.0  \n",
       "\n",
       "[5000 rows x 8 columns]"
      ]
     },
     "execution_count": 7,
     "metadata": {},
     "output_type": "execute_result"
    }
   ],
   "source": [
    "df[\"price_per_item\"] = df.order_amount / df.total_items\n",
    "df"
   ]
  },
  {
   "cell_type": "markdown",
   "metadata": {},
   "source": [
    "Let's get another look at the summary statistics after adding this column and changing the created_at column to a datetime."
   ]
  },
  {
   "cell_type": "code",
   "execution_count": 8,
   "metadata": {},
   "outputs": [
    {
     "data": {
      "text/html": [
       "<div>\n",
       "<style scoped>\n",
       "    .dataframe tbody tr th:only-of-type {\n",
       "        vertical-align: middle;\n",
       "    }\n",
       "\n",
       "    .dataframe tbody tr th {\n",
       "        vertical-align: top;\n",
       "    }\n",
       "\n",
       "    .dataframe thead th {\n",
       "        text-align: right;\n",
       "    }\n",
       "</style>\n",
       "<table border=\"1\" class=\"dataframe\">\n",
       "  <thead>\n",
       "    <tr style=\"text-align: right;\">\n",
       "      <th></th>\n",
       "      <th>order_id</th>\n",
       "      <th>shop_id</th>\n",
       "      <th>user_id</th>\n",
       "      <th>order_amount</th>\n",
       "      <th>total_items</th>\n",
       "      <th>payment_method</th>\n",
       "      <th>created_at</th>\n",
       "      <th>price_per_item</th>\n",
       "    </tr>\n",
       "  </thead>\n",
       "  <tbody>\n",
       "    <tr>\n",
       "      <th>count</th>\n",
       "      <td>5000.000000</td>\n",
       "      <td>5000.000000</td>\n",
       "      <td>5000.000000</td>\n",
       "      <td>5000.000000</td>\n",
       "      <td>5000.00000</td>\n",
       "      <td>5000</td>\n",
       "      <td>5000</td>\n",
       "      <td>5000.000000</td>\n",
       "    </tr>\n",
       "    <tr>\n",
       "      <th>unique</th>\n",
       "      <td>NaN</td>\n",
       "      <td>NaN</td>\n",
       "      <td>NaN</td>\n",
       "      <td>NaN</td>\n",
       "      <td>NaN</td>\n",
       "      <td>3</td>\n",
       "      <td>NaN</td>\n",
       "      <td>NaN</td>\n",
       "    </tr>\n",
       "    <tr>\n",
       "      <th>top</th>\n",
       "      <td>NaN</td>\n",
       "      <td>NaN</td>\n",
       "      <td>NaN</td>\n",
       "      <td>NaN</td>\n",
       "      <td>NaN</td>\n",
       "      <td>credit_card</td>\n",
       "      <td>NaN</td>\n",
       "      <td>NaN</td>\n",
       "    </tr>\n",
       "    <tr>\n",
       "      <th>freq</th>\n",
       "      <td>NaN</td>\n",
       "      <td>NaN</td>\n",
       "      <td>NaN</td>\n",
       "      <td>NaN</td>\n",
       "      <td>NaN</td>\n",
       "      <td>1735</td>\n",
       "      <td>NaN</td>\n",
       "      <td>NaN</td>\n",
       "    </tr>\n",
       "    <tr>\n",
       "      <th>mean</th>\n",
       "      <td>2500.500000</td>\n",
       "      <td>50.078800</td>\n",
       "      <td>849.092400</td>\n",
       "      <td>3145.128000</td>\n",
       "      <td>8.78720</td>\n",
       "      <td>NaN</td>\n",
       "      <td>2017-03-15 22:20:37.076199936</td>\n",
       "      <td>387.742800</td>\n",
       "    </tr>\n",
       "    <tr>\n",
       "      <th>min</th>\n",
       "      <td>1.000000</td>\n",
       "      <td>1.000000</td>\n",
       "      <td>607.000000</td>\n",
       "      <td>90.000000</td>\n",
       "      <td>1.00000</td>\n",
       "      <td>NaN</td>\n",
       "      <td>2017-03-01 00:08:09</td>\n",
       "      <td>90.000000</td>\n",
       "    </tr>\n",
       "    <tr>\n",
       "      <th>25%</th>\n",
       "      <td>1250.750000</td>\n",
       "      <td>24.000000</td>\n",
       "      <td>775.000000</td>\n",
       "      <td>163.000000</td>\n",
       "      <td>1.00000</td>\n",
       "      <td>NaN</td>\n",
       "      <td>2017-03-08 07:08:03.750000128</td>\n",
       "      <td>133.000000</td>\n",
       "    </tr>\n",
       "    <tr>\n",
       "      <th>50%</th>\n",
       "      <td>2500.500000</td>\n",
       "      <td>50.000000</td>\n",
       "      <td>849.000000</td>\n",
       "      <td>284.000000</td>\n",
       "      <td>2.00000</td>\n",
       "      <td>NaN</td>\n",
       "      <td>2017-03-16 00:21:20.500000</td>\n",
       "      <td>153.000000</td>\n",
       "    </tr>\n",
       "    <tr>\n",
       "      <th>75%</th>\n",
       "      <td>3750.250000</td>\n",
       "      <td>75.000000</td>\n",
       "      <td>925.000000</td>\n",
       "      <td>390.000000</td>\n",
       "      <td>3.00000</td>\n",
       "      <td>NaN</td>\n",
       "      <td>2017-03-23 10:39:58.249999872</td>\n",
       "      <td>169.000000</td>\n",
       "    </tr>\n",
       "    <tr>\n",
       "      <th>max</th>\n",
       "      <td>5000.000000</td>\n",
       "      <td>100.000000</td>\n",
       "      <td>999.000000</td>\n",
       "      <td>704000.000000</td>\n",
       "      <td>2000.00000</td>\n",
       "      <td>NaN</td>\n",
       "      <td>2017-03-30 23:55:35</td>\n",
       "      <td>25725.000000</td>\n",
       "    </tr>\n",
       "    <tr>\n",
       "      <th>std</th>\n",
       "      <td>1443.520003</td>\n",
       "      <td>29.006118</td>\n",
       "      <td>87.798982</td>\n",
       "      <td>41282.539349</td>\n",
       "      <td>116.32032</td>\n",
       "      <td>NaN</td>\n",
       "      <td>NaN</td>\n",
       "      <td>2441.963725</td>\n",
       "    </tr>\n",
       "  </tbody>\n",
       "</table>\n",
       "</div>"
      ],
      "text/plain": [
       "           order_id      shop_id      user_id   order_amount  total_items  \\\n",
       "count   5000.000000  5000.000000  5000.000000    5000.000000   5000.00000   \n",
       "unique          NaN          NaN          NaN            NaN          NaN   \n",
       "top             NaN          NaN          NaN            NaN          NaN   \n",
       "freq            NaN          NaN          NaN            NaN          NaN   \n",
       "mean    2500.500000    50.078800   849.092400    3145.128000      8.78720   \n",
       "min        1.000000     1.000000   607.000000      90.000000      1.00000   \n",
       "25%     1250.750000    24.000000   775.000000     163.000000      1.00000   \n",
       "50%     2500.500000    50.000000   849.000000     284.000000      2.00000   \n",
       "75%     3750.250000    75.000000   925.000000     390.000000      3.00000   \n",
       "max     5000.000000   100.000000   999.000000  704000.000000   2000.00000   \n",
       "std     1443.520003    29.006118    87.798982   41282.539349    116.32032   \n",
       "\n",
       "       payment_method                     created_at  price_per_item  \n",
       "count            5000                           5000     5000.000000  \n",
       "unique              3                            NaN             NaN  \n",
       "top       credit_card                            NaN             NaN  \n",
       "freq             1735                            NaN             NaN  \n",
       "mean              NaN  2017-03-15 22:20:37.076199936      387.742800  \n",
       "min               NaN            2017-03-01 00:08:09       90.000000  \n",
       "25%               NaN  2017-03-08 07:08:03.750000128      133.000000  \n",
       "50%               NaN     2017-03-16 00:21:20.500000      153.000000  \n",
       "75%               NaN  2017-03-23 10:39:58.249999872      169.000000  \n",
       "max               NaN            2017-03-30 23:55:35    25725.000000  \n",
       "std               NaN                            NaN     2441.963725  "
      ]
     },
     "execution_count": 8,
     "metadata": {},
     "output_type": "execute_result"
    }
   ],
   "source": [
    "df.describe(include='all', datetime_is_numeric=True)"
   ]
  },
  {
   "cell_type": "markdown",
   "metadata": {},
   "source": [
    "I'm noticing that the min and max values for created_at are in line with what I'm expecting. Early morning March 1st to late evening March 31st.\n",
    "\n",
    "As for the newly created price_per_item column, I'm noticing that the mean is much higher than the median, which is concerning. Also, I consider $387.74 to be a bit for a pair of shoes, especially as the average price. The median price of $153 seems much more reasonable. The max value of $25,725 seems extreme to me. Assuming this data isn't erronious, someone paid for for their shoes than I did for my car. Lastly, the standard deviation for the price_per_item column is much higher than I would expect. We'll definitly be looking for outliers. "
   ]
  },
  {
   "cell_type": "markdown",
   "metadata": {},
   "source": [
    "Let's check the mode real quick for the order_amount, total_items, and price_per_item columns."
   ]
  },
  {
   "cell_type": "code",
   "execution_count": 9,
   "metadata": {},
   "outputs": [
    {
     "data": {
      "text/plain": [
       "0    153\n",
       "Name: order_amount, dtype: int64"
      ]
     },
     "execution_count": 9,
     "metadata": {},
     "output_type": "execute_result"
    }
   ],
   "source": [
    "df.order_amount.mode()"
   ]
  },
  {
   "cell_type": "code",
   "execution_count": 10,
   "metadata": {},
   "outputs": [
    {
     "data": {
      "text/plain": [
       "153     87\n",
       "306     85\n",
       "354     82\n",
       "160     75\n",
       "156     75\n",
       "        ..\n",
       "816      1\n",
       "740      1\n",
       "735      1\n",
       "1064     1\n",
       "650      1\n",
       "Name: order_amount, Length: 258, dtype: int64"
      ]
     },
     "execution_count": 10,
     "metadata": {},
     "output_type": "execute_result"
    }
   ],
   "source": [
    "df.order_amount.value_counts().sort_values(ascending=False)"
   ]
  },
  {
   "cell_type": "code",
   "execution_count": 11,
   "metadata": {},
   "outputs": [
    {
     "data": {
      "text/plain": [
       "0    2\n",
       "Name: total_items, dtype: int64"
      ]
     },
     "execution_count": 11,
     "metadata": {},
     "output_type": "execute_result"
    }
   ],
   "source": [
    "df.total_items.mode()"
   ]
  },
  {
   "cell_type": "code",
   "execution_count": 12,
   "metadata": {},
   "outputs": [
    {
     "data": {
      "text/plain": [
       "2       1832\n",
       "1       1830\n",
       "3        941\n",
       "4        293\n",
       "5         77\n",
       "2000      17\n",
       "6          9\n",
       "8          1\n",
       "Name: total_items, dtype: int64"
      ]
     },
     "execution_count": 12,
     "metadata": {},
     "output_type": "execute_result"
    }
   ],
   "source": [
    "df.total_items.value_counts().sort_values(ascending=False)"
   ]
  },
  {
   "cell_type": "code",
   "execution_count": 13,
   "metadata": {},
   "outputs": [
    {
     "data": {
      "text/plain": [
       "0    153.0\n",
       "Name: price_per_item, dtype: float64"
      ]
     },
     "execution_count": 13,
     "metadata": {},
     "output_type": "execute_result"
    }
   ],
   "source": [
    "df.price_per_item.mode()"
   ]
  },
  {
   "cell_type": "markdown",
   "metadata": {},
   "source": [
    "It makes sense that the most frequent order amounts are $153.00 and $306.00 when the most frequent shoe price is $153.00 and the most frequent total items are 1 and 2."
   ]
  },
  {
   "cell_type": "markdown",
   "metadata": {},
   "source": [
    "Time to look for some outliers. Let's start by taking a look at the highest values for the order_amount column. I want to see if it's just a couple really large values, or a lot of really large values."
   ]
  },
  {
   "cell_type": "code",
   "execution_count": 14,
   "metadata": {},
   "outputs": [
    {
     "data": {
      "text/html": [
       "<div>\n",
       "<style scoped>\n",
       "    .dataframe tbody tr th:only-of-type {\n",
       "        vertical-align: middle;\n",
       "    }\n",
       "\n",
       "    .dataframe tbody tr th {\n",
       "        vertical-align: top;\n",
       "    }\n",
       "\n",
       "    .dataframe thead th {\n",
       "        text-align: right;\n",
       "    }\n",
       "</style>\n",
       "<table border=\"1\" class=\"dataframe\">\n",
       "  <thead>\n",
       "    <tr style=\"text-align: right;\">\n",
       "      <th></th>\n",
       "      <th>order_id</th>\n",
       "      <th>shop_id</th>\n",
       "      <th>user_id</th>\n",
       "      <th>order_amount</th>\n",
       "      <th>total_items</th>\n",
       "      <th>payment_method</th>\n",
       "      <th>created_at</th>\n",
       "      <th>price_per_item</th>\n",
       "    </tr>\n",
       "  </thead>\n",
       "  <tbody>\n",
       "    <tr>\n",
       "      <th>2153</th>\n",
       "      <td>2154</td>\n",
       "      <td>42</td>\n",
       "      <td>607</td>\n",
       "      <td>704000</td>\n",
       "      <td>2000</td>\n",
       "      <td>credit_card</td>\n",
       "      <td>2017-03-12 04:00:00</td>\n",
       "      <td>352.0</td>\n",
       "    </tr>\n",
       "    <tr>\n",
       "      <th>3332</th>\n",
       "      <td>3333</td>\n",
       "      <td>42</td>\n",
       "      <td>607</td>\n",
       "      <td>704000</td>\n",
       "      <td>2000</td>\n",
       "      <td>credit_card</td>\n",
       "      <td>2017-03-24 04:00:00</td>\n",
       "      <td>352.0</td>\n",
       "    </tr>\n",
       "    <tr>\n",
       "      <th>520</th>\n",
       "      <td>521</td>\n",
       "      <td>42</td>\n",
       "      <td>607</td>\n",
       "      <td>704000</td>\n",
       "      <td>2000</td>\n",
       "      <td>credit_card</td>\n",
       "      <td>2017-03-02 04:00:00</td>\n",
       "      <td>352.0</td>\n",
       "    </tr>\n",
       "    <tr>\n",
       "      <th>1602</th>\n",
       "      <td>1603</td>\n",
       "      <td>42</td>\n",
       "      <td>607</td>\n",
       "      <td>704000</td>\n",
       "      <td>2000</td>\n",
       "      <td>credit_card</td>\n",
       "      <td>2017-03-17 04:00:00</td>\n",
       "      <td>352.0</td>\n",
       "    </tr>\n",
       "    <tr>\n",
       "      <th>60</th>\n",
       "      <td>61</td>\n",
       "      <td>42</td>\n",
       "      <td>607</td>\n",
       "      <td>704000</td>\n",
       "      <td>2000</td>\n",
       "      <td>credit_card</td>\n",
       "      <td>2017-03-04 04:00:00</td>\n",
       "      <td>352.0</td>\n",
       "    </tr>\n",
       "    <tr>\n",
       "      <th>...</th>\n",
       "      <td>...</td>\n",
       "      <td>...</td>\n",
       "      <td>...</td>\n",
       "      <td>...</td>\n",
       "      <td>...</td>\n",
       "      <td>...</td>\n",
       "      <td>...</td>\n",
       "      <td>...</td>\n",
       "    </tr>\n",
       "    <tr>\n",
       "      <th>3871</th>\n",
       "      <td>3872</td>\n",
       "      <td>92</td>\n",
       "      <td>818</td>\n",
       "      <td>90</td>\n",
       "      <td>1</td>\n",
       "      <td>debit</td>\n",
       "      <td>2017-03-18 09:10:08</td>\n",
       "      <td>90.0</td>\n",
       "    </tr>\n",
       "    <tr>\n",
       "      <th>2503</th>\n",
       "      <td>2504</td>\n",
       "      <td>92</td>\n",
       "      <td>935</td>\n",
       "      <td>90</td>\n",
       "      <td>1</td>\n",
       "      <td>credit_card</td>\n",
       "      <td>2017-03-28 02:30:26</td>\n",
       "      <td>90.0</td>\n",
       "    </tr>\n",
       "    <tr>\n",
       "      <th>4414</th>\n",
       "      <td>4415</td>\n",
       "      <td>92</td>\n",
       "      <td>927</td>\n",
       "      <td>90</td>\n",
       "      <td>1</td>\n",
       "      <td>credit_card</td>\n",
       "      <td>2017-03-17 09:57:01</td>\n",
       "      <td>90.0</td>\n",
       "    </tr>\n",
       "    <tr>\n",
       "      <th>3363</th>\n",
       "      <td>3364</td>\n",
       "      <td>92</td>\n",
       "      <td>730</td>\n",
       "      <td>90</td>\n",
       "      <td>1</td>\n",
       "      <td>credit_card</td>\n",
       "      <td>2017-03-11 23:20:31</td>\n",
       "      <td>90.0</td>\n",
       "    </tr>\n",
       "    <tr>\n",
       "      <th>2092</th>\n",
       "      <td>2093</td>\n",
       "      <td>92</td>\n",
       "      <td>986</td>\n",
       "      <td>90</td>\n",
       "      <td>1</td>\n",
       "      <td>debit</td>\n",
       "      <td>2017-03-04 06:44:05</td>\n",
       "      <td>90.0</td>\n",
       "    </tr>\n",
       "  </tbody>\n",
       "</table>\n",
       "<p>5000 rows × 8 columns</p>\n",
       "</div>"
      ],
      "text/plain": [
       "      order_id  shop_id  user_id  order_amount  total_items payment_method  \\\n",
       "2153      2154       42      607        704000         2000    credit_card   \n",
       "3332      3333       42      607        704000         2000    credit_card   \n",
       "520        521       42      607        704000         2000    credit_card   \n",
       "1602      1603       42      607        704000         2000    credit_card   \n",
       "60          61       42      607        704000         2000    credit_card   \n",
       "...        ...      ...      ...           ...          ...            ...   \n",
       "3871      3872       92      818            90            1          debit   \n",
       "2503      2504       92      935            90            1    credit_card   \n",
       "4414      4415       92      927            90            1    credit_card   \n",
       "3363      3364       92      730            90            1    credit_card   \n",
       "2092      2093       92      986            90            1          debit   \n",
       "\n",
       "              created_at  price_per_item  \n",
       "2153 2017-03-12 04:00:00           352.0  \n",
       "3332 2017-03-24 04:00:00           352.0  \n",
       "520  2017-03-02 04:00:00           352.0  \n",
       "1602 2017-03-17 04:00:00           352.0  \n",
       "60   2017-03-04 04:00:00           352.0  \n",
       "...                  ...             ...  \n",
       "3871 2017-03-18 09:10:08            90.0  \n",
       "2503 2017-03-28 02:30:26            90.0  \n",
       "4414 2017-03-17 09:57:01            90.0  \n",
       "3363 2017-03-11 23:20:31            90.0  \n",
       "2092 2017-03-04 06:44:05            90.0  \n",
       "\n",
       "[5000 rows x 8 columns]"
      ]
     },
     "execution_count": 14,
     "metadata": {},
     "output_type": "execute_result"
    }
   ],
   "source": [
    "df.sort_values(by='order_amount', ascending=False)"
   ]
  },
  {
   "cell_type": "markdown",
   "metadata": {},
   "source": [
    "Looks like there are more than a few large values. Let's look at a histogram to get a sense of the distribution."
   ]
  },
  {
   "cell_type": "code",
   "execution_count": 15,
   "metadata": {},
   "outputs": [
    {
     "name": "stderr",
     "output_type": "stream",
     "text": [
      "C:\\ProgramData\\Anaconda3\\lib\\site-packages\\seaborn\\distributions.py:2619: FutureWarning: `distplot` is a deprecated function and will be removed in a future version. Please adapt your code to use either `displot` (a figure-level function with similar flexibility) or `histplot` (an axes-level function for histograms).\n",
      "  warnings.warn(msg, FutureWarning)\n"
     ]
    },
    {
     "data": {
      "text/plain": [
       "<AxesSubplot:xlabel='order_amount'>"
      ]
     },
     "execution_count": 15,
     "metadata": {},
     "output_type": "execute_result"
    },
    {
     "data": {
      "image/png": "[encoded data removed]",
      "text/plain": [
       "<Figure size 864x432 with 1 Axes>"
      ]
     },
     "metadata": {
      "needs_background": "light"
     },
     "output_type": "display_data"
    }
   ],
   "source": [
    "plt.figure(figsize=(12, 6))\n",
    "sns.distplot(df.order_amount, bins=10, kde=False)"
   ]
  },
  {
   "cell_type": "code",
   "execution_count": 16,
   "metadata": {},
   "outputs": [
    {
     "data": {
      "text/plain": [
       "<AxesSubplot:xlabel='order_amount', ylabel='Density'>"
      ]
     },
     "execution_count": 16,
     "metadata": {},
     "output_type": "execute_result"
    },
    {
     "data": {
      "image/png": "[encoded data removed]",
      "text/plain": [
       "<Figure size 864x432 with 1 Axes>"
      ]
     },
     "metadata": {
      "needs_background": "light"
     },
     "output_type": "display_data"
    }
   ],
   "source": [
    "plt.figure(figsize=(12, 6))\n",
    "sns.kdeplot(df.order_amount, shade=True)"
   ]
  },
  {
   "cell_type": "markdown",
   "metadata": {},
   "source": [
    "That is one skewed distribution... \n",
    "Let's see if we can identity some outliers."
   ]
  },
  {
   "cell_type": "code",
   "execution_count": 17,
   "metadata": {},
   "outputs": [
    {
     "data": {
      "text/plain": [
       "704000    17\n",
       "154350     1\n",
       "102900     1\n",
       "77175      9\n",
       "51450     16\n",
       "          ..\n",
       "112       48\n",
       "111       16\n",
       "101       15\n",
       "94        25\n",
       "90        18\n",
       "Name: order_amount, Length: 258, dtype: int64"
      ]
     },
     "execution_count": 17,
     "metadata": {},
     "output_type": "execute_result"
    }
   ],
   "source": [
    "df.order_amount.value_counts().sort_index(ascending=False)"
   ]
  },
  {
   "cell_type": "markdown",
   "metadata": {},
   "source": [
    "Looks like there a few orders that are really big. Let's see if there are some categories we can associate with these massive orders."
   ]
  },
  {
   "cell_type": "code",
   "execution_count": 18,
   "metadata": {},
   "outputs": [
    {
     "data": {
      "text/plain": [
       "shop_id\n",
       "42     235101.490196\n",
       "78      49213.043478\n",
       "50        403.545455\n",
       "90        403.224490\n",
       "38        390.857143\n",
       "           ...      \n",
       "53        214.117647\n",
       "100       213.675000\n",
       "32        189.976190\n",
       "2         174.327273\n",
       "92        162.857143\n",
       "Name: order_amount, Length: 100, dtype: float64"
      ]
     },
     "execution_count": 18,
     "metadata": {},
     "output_type": "execute_result"
    }
   ],
   "source": [
    "df.groupby('shop_id').order_amount.mean().sort_values(ascending=False)"
   ]
  },
  {
   "cell_type": "markdown",
   "metadata": {},
   "source": [
    "This is a big insight! Looks like shops 42 and 78 have WAY higher average order amounts than the rest of the shops. Let's see what happens if we separate these two shops out."
   ]
  },
  {
   "cell_type": "code",
   "execution_count": 19,
   "metadata": {},
   "outputs": [],
   "source": [
    "df_shop_42 = df.loc[df.shop_id == 42]\n",
    "df_shop_78 = df.loc[df.shop_id == 78]\n",
    "\n",
    "df_other_shops = df.loc[~df.shop_id.isin([42, 78])]"
   ]
  },
  {
   "cell_type": "markdown",
   "metadata": {},
   "source": [
    "How many rows were in the original dataframe? \n",
    "\n",
    "How many rows are left in the new df_other_shops dataframe?"
   ]
  },
  {
   "cell_type": "code",
   "execution_count": 20,
   "metadata": {},
   "outputs": [
    {
     "name": "stdout",
     "output_type": "stream",
     "text": [
      "Rows in original df: 5000\n",
      "Rows in df_other_shops: 4903\n",
      "Rows removed: 97\n",
      "Percent removed: 1.94%\n"
     ]
    }
   ],
   "source": [
    "print(f'Rows in original df: {len(df)}')\n",
    "print(f'Rows in df_other_shops: {len(df_other_shops)}')\n",
    "\n",
    "rows_removed = len(df) - len(df_other_shops)\n",
    "print(f'Rows removed: {rows_removed}')\n",
    "\n",
    "percent_removed = rows_removed / len(df) * 100\n",
    "print(f'Percent removed: {percent_removed:.2f}%')"
   ]
  },
  {
   "cell_type": "markdown",
   "metadata": {},
   "source": [
    "Let's summarize the new dataframe."
   ]
  },
  {
   "cell_type": "code",
   "execution_count": 21,
   "metadata": {},
   "outputs": [
    {
     "data": {
      "text/html": [
       "<div>\n",
       "<style scoped>\n",
       "    .dataframe tbody tr th:only-of-type {\n",
       "        vertical-align: middle;\n",
       "    }\n",
       "\n",
       "    .dataframe tbody tr th {\n",
       "        vertical-align: top;\n",
       "    }\n",
       "\n",
       "    .dataframe thead th {\n",
       "        text-align: right;\n",
       "    }\n",
       "</style>\n",
       "<table border=\"1\" class=\"dataframe\">\n",
       "  <thead>\n",
       "    <tr style=\"text-align: right;\">\n",
       "      <th></th>\n",
       "      <th>order_id</th>\n",
       "      <th>shop_id</th>\n",
       "      <th>user_id</th>\n",
       "      <th>order_amount</th>\n",
       "      <th>total_items</th>\n",
       "      <th>payment_method</th>\n",
       "      <th>created_at</th>\n",
       "      <th>price_per_item</th>\n",
       "    </tr>\n",
       "  </thead>\n",
       "  <tbody>\n",
       "    <tr>\n",
       "      <th>count</th>\n",
       "      <td>4903.000000</td>\n",
       "      <td>4903.000000</td>\n",
       "      <td>4903.000000</td>\n",
       "      <td>4903.000000</td>\n",
       "      <td>4903.000000</td>\n",
       "      <td>4903</td>\n",
       "      <td>4903</td>\n",
       "      <td>4903.000000</td>\n",
       "    </tr>\n",
       "    <tr>\n",
       "      <th>unique</th>\n",
       "      <td>NaN</td>\n",
       "      <td>NaN</td>\n",
       "      <td>NaN</td>\n",
       "      <td>NaN</td>\n",
       "      <td>NaN</td>\n",
       "      <td>3</td>\n",
       "      <td>NaN</td>\n",
       "      <td>NaN</td>\n",
       "    </tr>\n",
       "    <tr>\n",
       "      <th>top</th>\n",
       "      <td>NaN</td>\n",
       "      <td>NaN</td>\n",
       "      <td>NaN</td>\n",
       "      <td>NaN</td>\n",
       "      <td>NaN</td>\n",
       "      <td>credit_card</td>\n",
       "      <td>NaN</td>\n",
       "      <td>NaN</td>\n",
       "    </tr>\n",
       "    <tr>\n",
       "      <th>freq</th>\n",
       "      <td>NaN</td>\n",
       "      <td>NaN</td>\n",
       "      <td>NaN</td>\n",
       "      <td>NaN</td>\n",
       "      <td>NaN</td>\n",
       "      <td>1698</td>\n",
       "      <td>NaN</td>\n",
       "      <td>NaN</td>\n",
       "    </tr>\n",
       "    <tr>\n",
       "      <th>mean</th>\n",
       "      <td>2499.584540</td>\n",
       "      <td>49.900877</td>\n",
       "      <td>849.858862</td>\n",
       "      <td>300.155823</td>\n",
       "      <td>1.995717</td>\n",
       "      <td>NaN</td>\n",
       "      <td>2017-03-15 22:10:55.943299840</td>\n",
       "      <td>150.400163</td>\n",
       "    </tr>\n",
       "    <tr>\n",
       "      <th>min</th>\n",
       "      <td>1.000000</td>\n",
       "      <td>1.000000</td>\n",
       "      <td>700.000000</td>\n",
       "      <td>90.000000</td>\n",
       "      <td>1.000000</td>\n",
       "      <td>NaN</td>\n",
       "      <td>2017-03-01 00:08:09</td>\n",
       "      <td>90.000000</td>\n",
       "    </tr>\n",
       "    <tr>\n",
       "      <th>25%</th>\n",
       "      <td>1246.500000</td>\n",
       "      <td>24.000000</td>\n",
       "      <td>776.000000</td>\n",
       "      <td>163.000000</td>\n",
       "      <td>1.000000</td>\n",
       "      <td>NaN</td>\n",
       "      <td>2017-03-08 06:23:40</td>\n",
       "      <td>132.000000</td>\n",
       "    </tr>\n",
       "    <tr>\n",
       "      <th>50%</th>\n",
       "      <td>2499.000000</td>\n",
       "      <td>50.000000</td>\n",
       "      <td>850.000000</td>\n",
       "      <td>284.000000</td>\n",
       "      <td>2.000000</td>\n",
       "      <td>NaN</td>\n",
       "      <td>2017-03-15 23:46:37</td>\n",
       "      <td>153.000000</td>\n",
       "    </tr>\n",
       "    <tr>\n",
       "      <th>75%</th>\n",
       "      <td>3750.500000</td>\n",
       "      <td>74.000000</td>\n",
       "      <td>925.000000</td>\n",
       "      <td>386.500000</td>\n",
       "      <td>3.000000</td>\n",
       "      <td>NaN</td>\n",
       "      <td>2017-03-23 10:28:42</td>\n",
       "      <td>166.000000</td>\n",
       "    </tr>\n",
       "    <tr>\n",
       "      <th>max</th>\n",
       "      <td>5000.000000</td>\n",
       "      <td>100.000000</td>\n",
       "      <td>999.000000</td>\n",
       "      <td>1086.000000</td>\n",
       "      <td>8.000000</td>\n",
       "      <td>NaN</td>\n",
       "      <td>2017-03-30 23:55:35</td>\n",
       "      <td>201.000000</td>\n",
       "    </tr>\n",
       "    <tr>\n",
       "      <th>std</th>\n",
       "      <td>1444.221163</td>\n",
       "      <td>29.154367</td>\n",
       "      <td>86.887947</td>\n",
       "      <td>155.941112</td>\n",
       "      <td>0.982602</td>\n",
       "      <td>NaN</td>\n",
       "      <td>NaN</td>\n",
       "      <td>23.851202</td>\n",
       "    </tr>\n",
       "  </tbody>\n",
       "</table>\n",
       "</div>"
      ],
      "text/plain": [
       "           order_id      shop_id      user_id  order_amount  total_items  \\\n",
       "count   4903.000000  4903.000000  4903.000000   4903.000000  4903.000000   \n",
       "unique          NaN          NaN          NaN           NaN          NaN   \n",
       "top             NaN          NaN          NaN           NaN          NaN   \n",
       "freq            NaN          NaN          NaN           NaN          NaN   \n",
       "mean    2499.584540    49.900877   849.858862    300.155823     1.995717   \n",
       "min        1.000000     1.000000   700.000000     90.000000     1.000000   \n",
       "25%     1246.500000    24.000000   776.000000    163.000000     1.000000   \n",
       "50%     2499.000000    50.000000   850.000000    284.000000     2.000000   \n",
       "75%     3750.500000    74.000000   925.000000    386.500000     3.000000   \n",
       "max     5000.000000   100.000000   999.000000   1086.000000     8.000000   \n",
       "std     1444.221163    29.154367    86.887947    155.941112     0.982602   \n",
       "\n",
       "       payment_method                     created_at  price_per_item  \n",
       "count            4903                           4903     4903.000000  \n",
       "unique              3                            NaN             NaN  \n",
       "top       credit_card                            NaN             NaN  \n",
       "freq             1698                            NaN             NaN  \n",
       "mean              NaN  2017-03-15 22:10:55.943299840      150.400163  \n",
       "min               NaN            2017-03-01 00:08:09       90.000000  \n",
       "25%               NaN            2017-03-08 06:23:40      132.000000  \n",
       "50%               NaN            2017-03-15 23:46:37      153.000000  \n",
       "75%               NaN            2017-03-23 10:28:42      166.000000  \n",
       "max               NaN            2017-03-30 23:55:35      201.000000  \n",
       "std               NaN                            NaN       23.851202  "
      ]
     },
     "execution_count": 21,
     "metadata": {},
     "output_type": "execute_result"
    }
   ],
   "source": [
    "df_other_shops.describe(include='all', datetime_is_numeric=True)"
   ]
  },
  {
   "cell_type": "markdown",
   "metadata": {},
   "source": [
    "This looks so much better! All summary measures for order amount, total_items, and price_per_item seem totally reasonable. Let's take a look at the distribution of this new dataframe with shops 42 and 78 removed."
   ]
  },
  {
   "cell_type": "code",
   "execution_count": 22,
   "metadata": {},
   "outputs": [
    {
     "data": {
      "text/plain": [
       "<AxesSubplot:title={'center':'Frequency Distribution of Order Amounts (shops 42 and 78 omitted)'}, xlabel='order_amount', ylabel='Count'>"
      ]
     },
     "execution_count": 22,
     "metadata": {},
     "output_type": "execute_result"
    },
    {
     "data": {
      "image/png": "[encoded data removed]",
      "text/plain": [
       "<Figure size 864x432 with 1 Axes>"
      ]
     },
     "metadata": {
      "needs_background": "light"
     },
     "output_type": "display_data"
    }
   ],
   "source": [
    "plt.figure(figsize=(12, 6))\n",
    "plt.title(\"Frequency Distribution of Order Amounts (shops 42 and 78 omitted)\")\n",
    "sns.histplot(df_other_shops.order_amount, bins=100, kde=False)"
   ]
  },
  {
   "cell_type": "markdown",
   "metadata": {},
   "source": [
    "While the dataset is still skewed to the right, this looks much more reasonable. Let's take a look at the distributions for total_items and price_per_item."
   ]
  },
  {
   "cell_type": "code",
   "execution_count": 23,
   "metadata": {},
   "outputs": [
    {
     "data": {
      "text/plain": [
       "<AxesSubplot:title={'center':'Frequency Distribution of Total Items (shops 42 and 78 omitted)'}, xlabel='total_items', ylabel='Count'>"
      ]
     },
     "execution_count": 23,
     "metadata": {},
     "output_type": "execute_result"
    },
    {
     "data": {
      "image/png": "[encoded data removed]",
      "text/plain": [
       "<Figure size 864x432 with 1 Axes>"
      ]
     },
     "metadata": {
      "needs_background": "light"
     },
     "output_type": "display_data"
    }
   ],
   "source": [
    "plt.figure(figsize=(12, 6))\n",
    "plt.title(\"Frequency Distribution of Total Items (shops 42 and 78 omitted)\")\n",
    "sns.histplot(df_other_shops.total_items, bins=10, kde=False)"
   ]
  },
  {
   "cell_type": "code",
   "execution_count": 24,
   "metadata": {},
   "outputs": [
    {
     "data": {
      "text/plain": [
       "<AxesSubplot:title={'center':'Frequency Distribution of Price Per Item (shops 42 and 78 omitted)'}, xlabel='price_per_item', ylabel='Count'>"
      ]
     },
     "execution_count": 24,
     "metadata": {},
     "output_type": "execute_result"
    },
    {
     "data": {
      "image/png": "[encoded data removed]",
      "text/plain": [
       "<Figure size 864x432 with 1 Axes>"
      ]
     },
     "metadata": {
      "needs_background": "light"
     },
     "output_type": "display_data"
    }
   ],
   "source": [
    "plt.figure(figsize=(12, 6))\n",
    "plt.title(\"Frequency Distribution of Price Per Item (shops 42 and 78 omitted)\")\n",
    "sns.histplot(df_other_shops.price_per_item, bins=100, kde=False)"
   ]
  },
  {
   "cell_type": "markdown",
   "metadata": {},
   "source": [
    "I condiser both of the above distributions to be sensible. Let's take a look at how Order Amount looks over time."
   ]
  },
  {
   "cell_type": "code",
   "execution_count": 25,
   "metadata": {},
   "outputs": [
    {
     "data": {
      "text/plain": [
       "<AxesSubplot:xlabel='created_at', ylabel='order_amount'>"
      ]
     },
     "execution_count": 25,
     "metadata": {},
     "output_type": "execute_result"
    },
    {
     "data": {
      "image/png": "[encoded data removed]",
      "text/plain": [
       "<Figure size 864x432 with 1 Axes>"
      ]
     },
     "metadata": {
      "needs_background": "light"
     },
     "output_type": "display_data"
    }
   ],
   "source": [
    "plt.figure(figsize=(12, 6))\n",
    "sns.lineplot(x='created_at', y='order_amount', data=df_other_shops)"
   ]
  },
  {
   "cell_type": "markdown",
   "metadata": {},
   "source": [
    "That's kind of a mess. Let's try just looking at one shop."
   ]
  },
  {
   "cell_type": "code",
   "execution_count": 26,
   "metadata": {},
   "outputs": [
    {
     "data": {
      "text/plain": [
       "<AxesSubplot:xlabel='created_at', ylabel='order_amount'>"
      ]
     },
     "execution_count": 26,
     "metadata": {},
     "output_type": "execute_result"
    },
    {
     "data": {
      "image/png": "[encoded data removed]",
      "text/plain": [
       "<Figure size 864x432 with 1 Axes>"
      ]
     },
     "metadata": {
      "needs_background": "light"
     },
     "output_type": "display_data"
    }
   ],
   "source": [
    "plt.figure(figsize=(12, 6))\n",
    "sns.lineplot(x='created_at', y='order_amount', data=df_other_shops.loc[df_other_shops.shop_id == 50])"
   ]
  },
  {
   "cell_type": "markdown",
   "metadata": {},
   "source": [
    "This doesn't seem particularly insightful. Let's try a scatter plot."
   ]
  },
  {
   "cell_type": "code",
   "execution_count": 27,
   "metadata": {},
   "outputs": [
    {
     "data": {
      "text/plain": [
       "<AxesSubplot:xlabel='created_at', ylabel='order_amount'>"
      ]
     },
     "execution_count": 27,
     "metadata": {},
     "output_type": "execute_result"
    },
    {
     "data": {
      "image/png": "[encoded data removed]",
      "text/plain": [
       "<Figure size 864x432 with 1 Axes>"
      ]
     },
     "metadata": {
      "needs_background": "light"
     },
     "output_type": "display_data"
    }
   ],
   "source": [
    "plt.figure(figsize=(12, 6))\n",
    "sns.scatterplot(x='created_at', y='order_amount', hue='total_items', data=df_other_shops)"
   ]
  },
  {
   "cell_type": "markdown",
   "metadata": {},
   "source": [
    "This appears to be a fairly uniform distribution. I will say that there does appear to be some kind of gap in the data above $200. I wonder why that's there? I'm not going to dig into that now because it's not the purpose of this challenge, but it does seem interesting.\n",
    "\n",
    "Before returning to our outliers, let's look at the mode of this dataset with the outliers removed. I don't expect it to change much, if at all. But let's double check."
   ]
  },
  {
   "cell_type": "code",
   "execution_count": 28,
   "metadata": {},
   "outputs": [
    {
     "data": {
      "text/plain": [
       "153     87\n",
       "306     85\n",
       "354     82\n",
       "160     75\n",
       "156     75\n",
       "        ..\n",
       "740      1\n",
       "735      1\n",
       "725      1\n",
       "1086     1\n",
       "650      1\n",
       "Name: order_amount, Length: 249, dtype: int64"
      ]
     },
     "execution_count": 28,
     "metadata": {},
     "output_type": "execute_result"
    }
   ],
   "source": [
    "df_other_shops.order_amount.value_counts().sort_values(ascending=False)"
   ]
  },
  {
   "cell_type": "code",
   "execution_count": 29,
   "metadata": {},
   "outputs": [
    {
     "data": {
      "text/plain": [
       "2    1803\n",
       "1    1796\n",
       "3     929\n",
       "4     290\n",
       "5      76\n",
       "6       8\n",
       "8       1\n",
       "Name: total_items, dtype: int64"
      ]
     },
     "execution_count": 29,
     "metadata": {},
     "output_type": "execute_result"
    }
   ],
   "source": [
    "df_other_shops.total_items.value_counts().sort_values(ascending=False)"
   ]
  },
  {
   "cell_type": "code",
   "execution_count": 30,
   "metadata": {},
   "outputs": [
    {
     "data": {
      "text/plain": [
       "153.0    256\n",
       "160.0    206\n",
       "156.0    197\n",
       "142.0    197\n",
       "164.0    161\n",
       "176.0    152\n",
       "133.0    151\n",
       "130.0    150\n",
       "177.0    148\n",
       "129.0    142\n",
       "112.0    124\n",
       "163.0    122\n",
       "118.0    118\n",
       "181.0    112\n",
       "178.0    109\n",
       "187.0    105\n",
       "136.0    105\n",
       "161.0    101\n",
       "148.0    101\n",
       "173.0     99\n",
       "131.0     97\n",
       "158.0     94\n",
       "128.0     93\n",
       "145.0     92\n",
       "146.0     89\n",
       "134.0     86\n",
       "117.0     77\n",
       "196.0     61\n",
       "114.0     59\n",
       "138.0     59\n",
       "116.0     58\n",
       "165.0     58\n",
       "140.0     55\n",
       "94.0      55\n",
       "154.0     54\n",
       "169.0     54\n",
       "195.0     54\n",
       "201.0     53\n",
       "147.0     53\n",
       "127.0     52\n",
       "149.0     52\n",
       "122.0     50\n",
       "184.0     49\n",
       "162.0     48\n",
       "171.0     48\n",
       "132.0     46\n",
       "193.0     44\n",
       "166.0     43\n",
       "90.0      42\n",
       "155.0     42\n",
       "101.0     42\n",
       "111.0     40\n",
       "144.0     39\n",
       "168.0     39\n",
       "172.0     35\n",
       "190.0     35\n",
       "Name: price_per_item, dtype: int64"
      ]
     },
     "execution_count": 30,
     "metadata": {},
     "output_type": "execute_result"
    }
   ],
   "source": [
    "df_other_shops.price_per_item.value_counts().sort_values(ascending=False)"
   ]
  },
  {
   "cell_type": "markdown",
   "metadata": {},
   "source": [
    "Everything checks out!"
   ]
  },
  {
   "cell_type": "markdown",
   "metadata": {},
   "source": [
    "Let's go back to our outliers, and try to see if we can understand what's going on."
   ]
  },
  {
   "cell_type": "code",
   "execution_count": 31,
   "metadata": {},
   "outputs": [
    {
     "data": {
      "text/html": [
       "<div>\n",
       "<style scoped>\n",
       "    .dataframe tbody tr th:only-of-type {\n",
       "        vertical-align: middle;\n",
       "    }\n",
       "\n",
       "    .dataframe tbody tr th {\n",
       "        vertical-align: top;\n",
       "    }\n",
       "\n",
       "    .dataframe thead th {\n",
       "        text-align: right;\n",
       "    }\n",
       "</style>\n",
       "<table border=\"1\" class=\"dataframe\">\n",
       "  <thead>\n",
       "    <tr style=\"text-align: right;\">\n",
       "      <th></th>\n",
       "      <th>order_id</th>\n",
       "      <th>shop_id</th>\n",
       "      <th>user_id</th>\n",
       "      <th>order_amount</th>\n",
       "      <th>total_items</th>\n",
       "      <th>payment_method</th>\n",
       "      <th>created_at</th>\n",
       "      <th>price_per_item</th>\n",
       "    </tr>\n",
       "  </thead>\n",
       "  <tbody>\n",
       "    <tr>\n",
       "      <th>count</th>\n",
       "      <td>51.000000</td>\n",
       "      <td>51.0</td>\n",
       "      <td>51.000000</td>\n",
       "      <td>51.000000</td>\n",
       "      <td>51.000000</td>\n",
       "      <td>51</td>\n",
       "      <td>51</td>\n",
       "      <td>51.0</td>\n",
       "    </tr>\n",
       "    <tr>\n",
       "      <th>unique</th>\n",
       "      <td>NaN</td>\n",
       "      <td>NaN</td>\n",
       "      <td>NaN</td>\n",
       "      <td>NaN</td>\n",
       "      <td>NaN</td>\n",
       "      <td>3</td>\n",
       "      <td>NaN</td>\n",
       "      <td>NaN</td>\n",
       "    </tr>\n",
       "    <tr>\n",
       "      <th>top</th>\n",
       "      <td>NaN</td>\n",
       "      <td>NaN</td>\n",
       "      <td>NaN</td>\n",
       "      <td>NaN</td>\n",
       "      <td>NaN</td>\n",
       "      <td>credit_card</td>\n",
       "      <td>NaN</td>\n",
       "      <td>NaN</td>\n",
       "    </tr>\n",
       "    <tr>\n",
       "      <th>freq</th>\n",
       "      <td>NaN</td>\n",
       "      <td>NaN</td>\n",
       "      <td>NaN</td>\n",
       "      <td>NaN</td>\n",
       "      <td>NaN</td>\n",
       "      <td>27</td>\n",
       "      <td>NaN</td>\n",
       "      <td>NaN</td>\n",
       "    </tr>\n",
       "    <tr>\n",
       "      <th>mean</th>\n",
       "      <td>2441.921569</td>\n",
       "      <td>42.0</td>\n",
       "      <td>758.588235</td>\n",
       "      <td>235101.490196</td>\n",
       "      <td>667.901961</td>\n",
       "      <td>NaN</td>\n",
       "      <td>2017-03-15 06:46:01.333333504</td>\n",
       "      <td>352.0</td>\n",
       "    </tr>\n",
       "    <tr>\n",
       "      <th>min</th>\n",
       "      <td>16.000000</td>\n",
       "      <td>42.0</td>\n",
       "      <td>607.000000</td>\n",
       "      <td>352.000000</td>\n",
       "      <td>1.000000</td>\n",
       "      <td>NaN</td>\n",
       "      <td>2017-03-01 12:19:49</td>\n",
       "      <td>352.0</td>\n",
       "    </tr>\n",
       "    <tr>\n",
       "      <th>25%</th>\n",
       "      <td>1366.500000</td>\n",
       "      <td>42.0</td>\n",
       "      <td>607.000000</td>\n",
       "      <td>352.000000</td>\n",
       "      <td>1.000000</td>\n",
       "      <td>NaN</td>\n",
       "      <td>2017-03-08 09:59:03.500000</td>\n",
       "      <td>352.0</td>\n",
       "    </tr>\n",
       "    <tr>\n",
       "      <th>50%</th>\n",
       "      <td>2154.000000</td>\n",
       "      <td>42.0</td>\n",
       "      <td>770.000000</td>\n",
       "      <td>704.000000</td>\n",
       "      <td>2.000000</td>\n",
       "      <td>NaN</td>\n",
       "      <td>2017-03-13 23:43:45</td>\n",
       "      <td>352.0</td>\n",
       "    </tr>\n",
       "    <tr>\n",
       "      <th>75%</th>\n",
       "      <td>3801.000000</td>\n",
       "      <td>42.0</td>\n",
       "      <td>863.500000</td>\n",
       "      <td>704000.000000</td>\n",
       "      <td>2000.000000</td>\n",
       "      <td>NaN</td>\n",
       "      <td>2017-03-24 04:00:00</td>\n",
       "      <td>352.0</td>\n",
       "    </tr>\n",
       "    <tr>\n",
       "      <th>max</th>\n",
       "      <td>4883.000000</td>\n",
       "      <td>42.0</td>\n",
       "      <td>975.000000</td>\n",
       "      <td>704000.000000</td>\n",
       "      <td>2000.000000</td>\n",
       "      <td>NaN</td>\n",
       "      <td>2017-03-28 04:00:00</td>\n",
       "      <td>352.0</td>\n",
       "    </tr>\n",
       "    <tr>\n",
       "      <th>std</th>\n",
       "      <td>1484.456801</td>\n",
       "      <td>0.0</td>\n",
       "      <td>125.993044</td>\n",
       "      <td>334860.641587</td>\n",
       "      <td>951.308641</td>\n",
       "      <td>NaN</td>\n",
       "      <td>NaN</td>\n",
       "      <td>0.0</td>\n",
       "    </tr>\n",
       "  </tbody>\n",
       "</table>\n",
       "</div>"
      ],
      "text/plain": [
       "           order_id  shop_id     user_id   order_amount  total_items  \\\n",
       "count     51.000000     51.0   51.000000      51.000000    51.000000   \n",
       "unique          NaN      NaN         NaN            NaN          NaN   \n",
       "top             NaN      NaN         NaN            NaN          NaN   \n",
       "freq            NaN      NaN         NaN            NaN          NaN   \n",
       "mean    2441.921569     42.0  758.588235  235101.490196   667.901961   \n",
       "min       16.000000     42.0  607.000000     352.000000     1.000000   \n",
       "25%     1366.500000     42.0  607.000000     352.000000     1.000000   \n",
       "50%     2154.000000     42.0  770.000000     704.000000     2.000000   \n",
       "75%     3801.000000     42.0  863.500000  704000.000000  2000.000000   \n",
       "max     4883.000000     42.0  975.000000  704000.000000  2000.000000   \n",
       "std     1484.456801      0.0  125.993044  334860.641587   951.308641   \n",
       "\n",
       "       payment_method                     created_at  price_per_item  \n",
       "count              51                             51            51.0  \n",
       "unique              3                            NaN             NaN  \n",
       "top       credit_card                            NaN             NaN  \n",
       "freq               27                            NaN             NaN  \n",
       "mean              NaN  2017-03-15 06:46:01.333333504           352.0  \n",
       "min               NaN            2017-03-01 12:19:49           352.0  \n",
       "25%               NaN     2017-03-08 09:59:03.500000           352.0  \n",
       "50%               NaN            2017-03-13 23:43:45           352.0  \n",
       "75%               NaN            2017-03-24 04:00:00           352.0  \n",
       "max               NaN            2017-03-28 04:00:00           352.0  \n",
       "std               NaN                            NaN             0.0  "
      ]
     },
     "execution_count": 31,
     "metadata": {},
     "output_type": "execute_result"
    }
   ],
   "source": [
    "df_shop_42.describe(include='all', datetime_is_numeric=True)"
   ]
  },
  {
   "cell_type": "markdown",
   "metadata": {},
   "source": [
    "Shop 42 had 51 orders with an average order_amount of $235,101,49 per order. That seems extreme. Let's see if we can identify a pattern."
   ]
  },
  {
   "cell_type": "code",
   "execution_count": 32,
   "metadata": {},
   "outputs": [
    {
     "data": {
      "text/plain": [
       "<AxesSubplot:xlabel='user_id', ylabel='order_amount'>"
      ]
     },
     "execution_count": 32,
     "metadata": {},
     "output_type": "execute_result"
    },
    {
     "data": {
      "image/png": "[encoded data removed]",
      "text/plain": [
       "<Figure size 864x432 with 1 Axes>"
      ]
     },
     "metadata": {
      "needs_background": "light"
     },
     "output_type": "display_data"
    }
   ],
   "source": [
    "plt.figure(figsize=(12, 6))\n",
    "sns.barplot(x='user_id', y='order_amount', data=df_shop_42)"
   ]
  },
  {
   "cell_type": "markdown",
   "metadata": {},
   "source": [
    "Looks like there is something going on with user 607. Let's drill into that."
   ]
  },
  {
   "cell_type": "code",
   "execution_count": 33,
   "metadata": {},
   "outputs": [
    {
     "data": {
      "text/plain": [
       "704000    17\n",
       "Name: order_amount, dtype: int64"
      ]
     },
     "execution_count": 33,
     "metadata": {},
     "output_type": "execute_result"
    }
   ],
   "source": [
    "df_shop_42.loc[df_shop_42.user_id == 607].order_amount.value_counts()"
   ]
  },
  {
   "cell_type": "code",
   "execution_count": 34,
   "metadata": {},
   "outputs": [
    {
     "data": {
      "text/html": [
       "<div>\n",
       "<style scoped>\n",
       "    .dataframe tbody tr th:only-of-type {\n",
       "        vertical-align: middle;\n",
       "    }\n",
       "\n",
       "    .dataframe tbody tr th {\n",
       "        vertical-align: top;\n",
       "    }\n",
       "\n",
       "    .dataframe thead th {\n",
       "        text-align: right;\n",
       "    }\n",
       "</style>\n",
       "<table border=\"1\" class=\"dataframe\">\n",
       "  <thead>\n",
       "    <tr style=\"text-align: right;\">\n",
       "      <th></th>\n",
       "      <th>order_id</th>\n",
       "      <th>shop_id</th>\n",
       "      <th>user_id</th>\n",
       "      <th>order_amount</th>\n",
       "      <th>total_items</th>\n",
       "      <th>payment_method</th>\n",
       "      <th>created_at</th>\n",
       "      <th>price_per_item</th>\n",
       "    </tr>\n",
       "  </thead>\n",
       "  <tbody>\n",
       "    <tr>\n",
       "      <th>15</th>\n",
       "      <td>16</td>\n",
       "      <td>42</td>\n",
       "      <td>607</td>\n",
       "      <td>704000</td>\n",
       "      <td>2000</td>\n",
       "      <td>credit_card</td>\n",
       "      <td>2017-03-07 04:00:00</td>\n",
       "      <td>352.0</td>\n",
       "    </tr>\n",
       "    <tr>\n",
       "      <th>60</th>\n",
       "      <td>61</td>\n",
       "      <td>42</td>\n",
       "      <td>607</td>\n",
       "      <td>704000</td>\n",
       "      <td>2000</td>\n",
       "      <td>credit_card</td>\n",
       "      <td>2017-03-04 04:00:00</td>\n",
       "      <td>352.0</td>\n",
       "    </tr>\n",
       "    <tr>\n",
       "      <th>520</th>\n",
       "      <td>521</td>\n",
       "      <td>42</td>\n",
       "      <td>607</td>\n",
       "      <td>704000</td>\n",
       "      <td>2000</td>\n",
       "      <td>credit_card</td>\n",
       "      <td>2017-03-02 04:00:00</td>\n",
       "      <td>352.0</td>\n",
       "    </tr>\n",
       "    <tr>\n",
       "      <th>1104</th>\n",
       "      <td>1105</td>\n",
       "      <td>42</td>\n",
       "      <td>607</td>\n",
       "      <td>704000</td>\n",
       "      <td>2000</td>\n",
       "      <td>credit_card</td>\n",
       "      <td>2017-03-24 04:00:00</td>\n",
       "      <td>352.0</td>\n",
       "    </tr>\n",
       "    <tr>\n",
       "      <th>1362</th>\n",
       "      <td>1363</td>\n",
       "      <td>42</td>\n",
       "      <td>607</td>\n",
       "      <td>704000</td>\n",
       "      <td>2000</td>\n",
       "      <td>credit_card</td>\n",
       "      <td>2017-03-15 04:00:00</td>\n",
       "      <td>352.0</td>\n",
       "    </tr>\n",
       "    <tr>\n",
       "      <th>1436</th>\n",
       "      <td>1437</td>\n",
       "      <td>42</td>\n",
       "      <td>607</td>\n",
       "      <td>704000</td>\n",
       "      <td>2000</td>\n",
       "      <td>credit_card</td>\n",
       "      <td>2017-03-11 04:00:00</td>\n",
       "      <td>352.0</td>\n",
       "    </tr>\n",
       "    <tr>\n",
       "      <th>1562</th>\n",
       "      <td>1563</td>\n",
       "      <td>42</td>\n",
       "      <td>607</td>\n",
       "      <td>704000</td>\n",
       "      <td>2000</td>\n",
       "      <td>credit_card</td>\n",
       "      <td>2017-03-19 04:00:00</td>\n",
       "      <td>352.0</td>\n",
       "    </tr>\n",
       "    <tr>\n",
       "      <th>1602</th>\n",
       "      <td>1603</td>\n",
       "      <td>42</td>\n",
       "      <td>607</td>\n",
       "      <td>704000</td>\n",
       "      <td>2000</td>\n",
       "      <td>credit_card</td>\n",
       "      <td>2017-03-17 04:00:00</td>\n",
       "      <td>352.0</td>\n",
       "    </tr>\n",
       "    <tr>\n",
       "      <th>2153</th>\n",
       "      <td>2154</td>\n",
       "      <td>42</td>\n",
       "      <td>607</td>\n",
       "      <td>704000</td>\n",
       "      <td>2000</td>\n",
       "      <td>credit_card</td>\n",
       "      <td>2017-03-12 04:00:00</td>\n",
       "      <td>352.0</td>\n",
       "    </tr>\n",
       "    <tr>\n",
       "      <th>2297</th>\n",
       "      <td>2298</td>\n",
       "      <td>42</td>\n",
       "      <td>607</td>\n",
       "      <td>704000</td>\n",
       "      <td>2000</td>\n",
       "      <td>credit_card</td>\n",
       "      <td>2017-03-07 04:00:00</td>\n",
       "      <td>352.0</td>\n",
       "    </tr>\n",
       "    <tr>\n",
       "      <th>2835</th>\n",
       "      <td>2836</td>\n",
       "      <td>42</td>\n",
       "      <td>607</td>\n",
       "      <td>704000</td>\n",
       "      <td>2000</td>\n",
       "      <td>credit_card</td>\n",
       "      <td>2017-03-28 04:00:00</td>\n",
       "      <td>352.0</td>\n",
       "    </tr>\n",
       "    <tr>\n",
       "      <th>2969</th>\n",
       "      <td>2970</td>\n",
       "      <td>42</td>\n",
       "      <td>607</td>\n",
       "      <td>704000</td>\n",
       "      <td>2000</td>\n",
       "      <td>credit_card</td>\n",
       "      <td>2017-03-28 04:00:00</td>\n",
       "      <td>352.0</td>\n",
       "    </tr>\n",
       "    <tr>\n",
       "      <th>3332</th>\n",
       "      <td>3333</td>\n",
       "      <td>42</td>\n",
       "      <td>607</td>\n",
       "      <td>704000</td>\n",
       "      <td>2000</td>\n",
       "      <td>credit_card</td>\n",
       "      <td>2017-03-24 04:00:00</td>\n",
       "      <td>352.0</td>\n",
       "    </tr>\n",
       "    <tr>\n",
       "      <th>4056</th>\n",
       "      <td>4057</td>\n",
       "      <td>42</td>\n",
       "      <td>607</td>\n",
       "      <td>704000</td>\n",
       "      <td>2000</td>\n",
       "      <td>credit_card</td>\n",
       "      <td>2017-03-28 04:00:00</td>\n",
       "      <td>352.0</td>\n",
       "    </tr>\n",
       "    <tr>\n",
       "      <th>4646</th>\n",
       "      <td>4647</td>\n",
       "      <td>42</td>\n",
       "      <td>607</td>\n",
       "      <td>704000</td>\n",
       "      <td>2000</td>\n",
       "      <td>credit_card</td>\n",
       "      <td>2017-03-02 04:00:00</td>\n",
       "      <td>352.0</td>\n",
       "    </tr>\n",
       "    <tr>\n",
       "      <th>4868</th>\n",
       "      <td>4869</td>\n",
       "      <td>42</td>\n",
       "      <td>607</td>\n",
       "      <td>704000</td>\n",
       "      <td>2000</td>\n",
       "      <td>credit_card</td>\n",
       "      <td>2017-03-22 04:00:00</td>\n",
       "      <td>352.0</td>\n",
       "    </tr>\n",
       "    <tr>\n",
       "      <th>4882</th>\n",
       "      <td>4883</td>\n",
       "      <td>42</td>\n",
       "      <td>607</td>\n",
       "      <td>704000</td>\n",
       "      <td>2000</td>\n",
       "      <td>credit_card</td>\n",
       "      <td>2017-03-25 04:00:00</td>\n",
       "      <td>352.0</td>\n",
       "    </tr>\n",
       "  </tbody>\n",
       "</table>\n",
       "</div>"
      ],
      "text/plain": [
       "      order_id  shop_id  user_id  order_amount  total_items payment_method  \\\n",
       "15          16       42      607        704000         2000    credit_card   \n",
       "60          61       42      607        704000         2000    credit_card   \n",
       "520        521       42      607        704000         2000    credit_card   \n",
       "1104      1105       42      607        704000         2000    credit_card   \n",
       "1362      1363       42      607        704000         2000    credit_card   \n",
       "1436      1437       42      607        704000         2000    credit_card   \n",
       "1562      1563       42      607        704000         2000    credit_card   \n",
       "1602      1603       42      607        704000         2000    credit_card   \n",
       "2153      2154       42      607        704000         2000    credit_card   \n",
       "2297      2298       42      607        704000         2000    credit_card   \n",
       "2835      2836       42      607        704000         2000    credit_card   \n",
       "2969      2970       42      607        704000         2000    credit_card   \n",
       "3332      3333       42      607        704000         2000    credit_card   \n",
       "4056      4057       42      607        704000         2000    credit_card   \n",
       "4646      4647       42      607        704000         2000    credit_card   \n",
       "4868      4869       42      607        704000         2000    credit_card   \n",
       "4882      4883       42      607        704000         2000    credit_card   \n",
       "\n",
       "              created_at  price_per_item  \n",
       "15   2017-03-07 04:00:00           352.0  \n",
       "60   2017-03-04 04:00:00           352.0  \n",
       "520  2017-03-02 04:00:00           352.0  \n",
       "1104 2017-03-24 04:00:00           352.0  \n",
       "1362 2017-03-15 04:00:00           352.0  \n",
       "1436 2017-03-11 04:00:00           352.0  \n",
       "1562 2017-03-19 04:00:00           352.0  \n",
       "1602 2017-03-17 04:00:00           352.0  \n",
       "2153 2017-03-12 04:00:00           352.0  \n",
       "2297 2017-03-07 04:00:00           352.0  \n",
       "2835 2017-03-28 04:00:00           352.0  \n",
       "2969 2017-03-28 04:00:00           352.0  \n",
       "3332 2017-03-24 04:00:00           352.0  \n",
       "4056 2017-03-28 04:00:00           352.0  \n",
       "4646 2017-03-02 04:00:00           352.0  \n",
       "4868 2017-03-22 04:00:00           352.0  \n",
       "4882 2017-03-25 04:00:00           352.0  "
      ]
     },
     "execution_count": 34,
     "metadata": {},
     "output_type": "execute_result"
    }
   ],
   "source": [
    "df_shop_42.loc[df_shop_42.user_id == 607]"
   ]
  },
  {
   "cell_type": "markdown",
   "metadata": {},
   "source": [
    "Looks like the only business between shop 42 and user 607 are these 17 orders, each for exactly $704,000.00. All of these were for 2,000 pairs of shoes."
   ]
  },
  {
   "cell_type": "code",
   "execution_count": 35,
   "metadata": {},
   "outputs": [
    {
     "data": {
      "text/plain": [
       "<AxesSubplot:xlabel='created_at', ylabel='Count'>"
      ]
     },
     "execution_count": 35,
     "metadata": {},
     "output_type": "execute_result"
    },
    {
     "data": {
      "image/png": "[encoded data removed]",
      "text/plain": [
       "<Figure size 864x432 with 1 Axes>"
      ]
     },
     "metadata": {
      "needs_background": "light"
     },
     "output_type": "display_data"
    }
   ],
   "source": [
    "plt.figure(figsize=(12, 6))\n",
    "sns.histplot(df_shop_42.loc[df_shop_42.user_id == 607].created_at, bins=16, kde=False)"
   ]
  },
  {
   "cell_type": "markdown",
   "metadata": {},
   "source": [
    "Looks like these orders were placed throughout the month. \n",
    "\n",
    "This is clearly a huge outlier compared to the rest of the data and should be considered seperatly. This data was certainly skewing the averages for the whole dataset.\n",
    "\n",
    "Next, let's take a look at our other outlier, shop 78."
   ]
  },
  {
   "cell_type": "code",
   "execution_count": 36,
   "metadata": {},
   "outputs": [
    {
     "data": {
      "text/html": [
       "<div>\n",
       "<style scoped>\n",
       "    .dataframe tbody tr th:only-of-type {\n",
       "        vertical-align: middle;\n",
       "    }\n",
       "\n",
       "    .dataframe tbody tr th {\n",
       "        vertical-align: top;\n",
       "    }\n",
       "\n",
       "    .dataframe thead th {\n",
       "        text-align: right;\n",
       "    }\n",
       "</style>\n",
       "<table border=\"1\" class=\"dataframe\">\n",
       "  <thead>\n",
       "    <tr style=\"text-align: right;\">\n",
       "      <th></th>\n",
       "      <th>order_id</th>\n",
       "      <th>shop_id</th>\n",
       "      <th>user_id</th>\n",
       "      <th>order_amount</th>\n",
       "      <th>total_items</th>\n",
       "      <th>payment_method</th>\n",
       "      <th>created_at</th>\n",
       "      <th>price_per_item</th>\n",
       "    </tr>\n",
       "  </thead>\n",
       "  <tbody>\n",
       "    <tr>\n",
       "      <th>count</th>\n",
       "      <td>46.000000</td>\n",
       "      <td>46.0</td>\n",
       "      <td>46.000000</td>\n",
       "      <td>46.000000</td>\n",
       "      <td>46.000000</td>\n",
       "      <td>46</td>\n",
       "      <td>46</td>\n",
       "      <td>46.0</td>\n",
       "    </tr>\n",
       "    <tr>\n",
       "      <th>unique</th>\n",
       "      <td>NaN</td>\n",
       "      <td>NaN</td>\n",
       "      <td>NaN</td>\n",
       "      <td>NaN</td>\n",
       "      <td>NaN</td>\n",
       "      <td>3</td>\n",
       "      <td>NaN</td>\n",
       "      <td>NaN</td>\n",
       "    </tr>\n",
       "    <tr>\n",
       "      <th>top</th>\n",
       "      <td>NaN</td>\n",
       "      <td>NaN</td>\n",
       "      <td>NaN</td>\n",
       "      <td>NaN</td>\n",
       "      <td>NaN</td>\n",
       "      <td>debit</td>\n",
       "      <td>NaN</td>\n",
       "      <td>NaN</td>\n",
       "    </tr>\n",
       "    <tr>\n",
       "      <th>freq</th>\n",
       "      <td>NaN</td>\n",
       "      <td>NaN</td>\n",
       "      <td>NaN</td>\n",
       "      <td>NaN</td>\n",
       "      <td>NaN</td>\n",
       "      <td>18</td>\n",
       "      <td>NaN</td>\n",
       "      <td>NaN</td>\n",
       "    </tr>\n",
       "    <tr>\n",
       "      <th>mean</th>\n",
       "      <td>2663.021739</td>\n",
       "      <td>78.0</td>\n",
       "      <td>867.739130</td>\n",
       "      <td>49213.043478</td>\n",
       "      <td>1.913043</td>\n",
       "      <td>NaN</td>\n",
       "      <td>2017-03-17 08:49:09.195652352</td>\n",
       "      <td>25725.0</td>\n",
       "    </tr>\n",
       "    <tr>\n",
       "      <th>min</th>\n",
       "      <td>161.000000</td>\n",
       "      <td>78.0</td>\n",
       "      <td>707.000000</td>\n",
       "      <td>25725.000000</td>\n",
       "      <td>1.000000</td>\n",
       "      <td>NaN</td>\n",
       "      <td>2017-03-01 03:02:10</td>\n",
       "      <td>25725.0</td>\n",
       "    </tr>\n",
       "    <tr>\n",
       "      <th>25%</th>\n",
       "      <td>1428.250000</td>\n",
       "      <td>78.0</td>\n",
       "      <td>812.500000</td>\n",
       "      <td>25725.000000</td>\n",
       "      <td>1.000000</td>\n",
       "      <td>NaN</td>\n",
       "      <td>2017-03-13 08:19:02.249999872</td>\n",
       "      <td>25725.0</td>\n",
       "    </tr>\n",
       "    <tr>\n",
       "      <th>50%</th>\n",
       "      <td>2796.500000</td>\n",
       "      <td>78.0</td>\n",
       "      <td>866.500000</td>\n",
       "      <td>51450.000000</td>\n",
       "      <td>2.000000</td>\n",
       "      <td>NaN</td>\n",
       "      <td>2017-03-17 17:24:00</td>\n",
       "      <td>25725.0</td>\n",
       "    </tr>\n",
       "    <tr>\n",
       "      <th>75%</th>\n",
       "      <td>3720.250000</td>\n",
       "      <td>78.0</td>\n",
       "      <td>935.750000</td>\n",
       "      <td>51450.000000</td>\n",
       "      <td>2.000000</td>\n",
       "      <td>NaN</td>\n",
       "      <td>2017-03-22 18:27:52</td>\n",
       "      <td>25725.0</td>\n",
       "    </tr>\n",
       "    <tr>\n",
       "      <th>max</th>\n",
       "      <td>4919.000000</td>\n",
       "      <td>78.0</td>\n",
       "      <td>997.000000</td>\n",
       "      <td>154350.000000</td>\n",
       "      <td>6.000000</td>\n",
       "      <td>NaN</td>\n",
       "      <td>2017-03-30 12:23:43</td>\n",
       "      <td>25725.0</td>\n",
       "    </tr>\n",
       "    <tr>\n",
       "      <th>std</th>\n",
       "      <td>1338.520020</td>\n",
       "      <td>0.0</td>\n",
       "      <td>81.314871</td>\n",
       "      <td>26472.227449</td>\n",
       "      <td>1.029047</td>\n",
       "      <td>NaN</td>\n",
       "      <td>NaN</td>\n",
       "      <td>0.0</td>\n",
       "    </tr>\n",
       "  </tbody>\n",
       "</table>\n",
       "</div>"
      ],
      "text/plain": [
       "           order_id  shop_id     user_id   order_amount  total_items  \\\n",
       "count     46.000000     46.0   46.000000      46.000000    46.000000   \n",
       "unique          NaN      NaN         NaN            NaN          NaN   \n",
       "top             NaN      NaN         NaN            NaN          NaN   \n",
       "freq            NaN      NaN         NaN            NaN          NaN   \n",
       "mean    2663.021739     78.0  867.739130   49213.043478     1.913043   \n",
       "min      161.000000     78.0  707.000000   25725.000000     1.000000   \n",
       "25%     1428.250000     78.0  812.500000   25725.000000     1.000000   \n",
       "50%     2796.500000     78.0  866.500000   51450.000000     2.000000   \n",
       "75%     3720.250000     78.0  935.750000   51450.000000     2.000000   \n",
       "max     4919.000000     78.0  997.000000  154350.000000     6.000000   \n",
       "std     1338.520020      0.0   81.314871   26472.227449     1.029047   \n",
       "\n",
       "       payment_method                     created_at  price_per_item  \n",
       "count              46                             46            46.0  \n",
       "unique              3                            NaN             NaN  \n",
       "top             debit                            NaN             NaN  \n",
       "freq               18                            NaN             NaN  \n",
       "mean              NaN  2017-03-17 08:49:09.195652352         25725.0  \n",
       "min               NaN            2017-03-01 03:02:10         25725.0  \n",
       "25%               NaN  2017-03-13 08:19:02.249999872         25725.0  \n",
       "50%               NaN            2017-03-17 17:24:00         25725.0  \n",
       "75%               NaN            2017-03-22 18:27:52         25725.0  \n",
       "max               NaN            2017-03-30 12:23:43         25725.0  \n",
       "std               NaN                            NaN             0.0  "
      ]
     },
     "execution_count": 36,
     "metadata": {},
     "output_type": "execute_result"
    }
   ],
   "source": [
    "df_shop_78.describe(include='all', datetime_is_numeric=True)"
   ]
  },
  {
   "cell_type": "markdown",
   "metadata": {},
   "source": [
    "Shop 78 had 46 orders in March. The first thing that jumps out to me is the price_per_item at $25,725. That's a very expensive pair of shoes. I want to see what shoe prices look like in the dataset as a whole."
   ]
  },
  {
   "cell_type": "code",
   "execution_count": 37,
   "metadata": {},
   "outputs": [
    {
     "data": {
      "text/plain": [
       "25725.0     46\n",
       "352.0       51\n",
       "201.0       53\n",
       "196.0       61\n",
       "195.0       54\n",
       "193.0       44\n",
       "190.0       35\n",
       "187.0      105\n",
       "184.0       49\n",
       "181.0      112\n",
       "178.0      109\n",
       "177.0      148\n",
       "176.0      152\n",
       "173.0       99\n",
       "172.0       35\n",
       "171.0       48\n",
       "169.0       54\n",
       "168.0       39\n",
       "166.0       43\n",
       "165.0       58\n",
       "164.0      161\n",
       "163.0      122\n",
       "162.0       48\n",
       "161.0      101\n",
       "160.0      206\n",
       "158.0       94\n",
       "156.0      197\n",
       "155.0       42\n",
       "154.0       54\n",
       "153.0      256\n",
       "149.0       52\n",
       "148.0      101\n",
       "147.0       53\n",
       "146.0       89\n",
       "145.0       92\n",
       "144.0       39\n",
       "142.0      197\n",
       "140.0       55\n",
       "138.0       59\n",
       "136.0      105\n",
       "134.0       86\n",
       "133.0      151\n",
       "132.0       46\n",
       "131.0       97\n",
       "130.0      150\n",
       "129.0      142\n",
       "128.0       93\n",
       "127.0       52\n",
       "122.0       50\n",
       "118.0      118\n",
       "117.0       77\n",
       "116.0       58\n",
       "114.0       59\n",
       "112.0      124\n",
       "111.0       40\n",
       "101.0       42\n",
       "94.0        55\n",
       "90.0        42\n",
       "Name: price_per_item, dtype: int64"
      ]
     },
     "execution_count": 37,
     "metadata": {},
     "output_type": "execute_result"
    }
   ],
   "source": [
    "df.price_per_item.value_counts().sort_index(ascending=False)"
   ]
  },
  {
   "cell_type": "markdown",
   "metadata": {},
   "source": [
    "As I suspected, $25,725 is a hugh outlier. This explains why shop 78 has such a high average order_amount."
   ]
  },
  {
   "cell_type": "markdown",
   "metadata": {},
   "source": [
    "Now that we have a better understanding of the outliers, and what our data looks like with the outliers removed, let's move on to answer the questions."
   ]
  },
  {
   "cell_type": "markdown",
   "metadata": {},
   "source": [
    "## Step 4: Answering the Questions\n",
    "\n",
    "#### Question 1: Think about what could be going wrong with our calculation. Think about a better way to evaluate this data. \n"
   ]
  },
  {
   "cell_type": "markdown",
   "metadata": {},
   "source": [
    "This one is pretty clear. The average order value (AOV) is a misleading measure of central tendency because it is based on the mean of the order_amount column, which contains some extreme outliers. By removing the outliers, we can see that the average order value is much closer to the median, and much more sensible overall. \n",
    "\n",
    "- mean order_amount prior to removing outliers: $3,145.13\n",
    "- median order_amount prior to removing outliers: $284.00\n",
    "- mode order_amount prior to removing outliers: $153.00\n",
    "- standard deviation prior to removing outliers: $41,282.54\n",
    "\n",
    "\n",
    "* mean order_amount after removing outliers: $300.16\n",
    "* median order_amount after removing outliers: $284.00\n",
    "* mode order_amount after removing outliers: $153.00\n",
    "* standard deviation after removing outliers: $155.94"
   ]
  },
  {
   "cell_type": "code",
   "execution_count": 38,
   "metadata": {},
   "outputs": [
    {
     "data": {
      "text/html": [
       "<div>\n",
       "<style scoped>\n",
       "    .dataframe tbody tr th:only-of-type {\n",
       "        vertical-align: middle;\n",
       "    }\n",
       "\n",
       "    .dataframe tbody tr th {\n",
       "        vertical-align: top;\n",
       "    }\n",
       "\n",
       "    .dataframe thead th {\n",
       "        text-align: right;\n",
       "    }\n",
       "</style>\n",
       "<table border=\"1\" class=\"dataframe\">\n",
       "  <thead>\n",
       "    <tr style=\"text-align: right;\">\n",
       "      <th></th>\n",
       "      <th>order_id</th>\n",
       "      <th>shop_id</th>\n",
       "      <th>user_id</th>\n",
       "      <th>order_amount</th>\n",
       "      <th>total_items</th>\n",
       "      <th>payment_method</th>\n",
       "      <th>created_at</th>\n",
       "      <th>price_per_item</th>\n",
       "    </tr>\n",
       "  </thead>\n",
       "  <tbody>\n",
       "    <tr>\n",
       "      <th>count</th>\n",
       "      <td>4903.000000</td>\n",
       "      <td>4903.000000</td>\n",
       "      <td>4903.000000</td>\n",
       "      <td>4903.000000</td>\n",
       "      <td>4903.000000</td>\n",
       "      <td>4903</td>\n",
       "      <td>4903</td>\n",
       "      <td>4903.000000</td>\n",
       "    </tr>\n",
       "    <tr>\n",
       "      <th>unique</th>\n",
       "      <td>NaN</td>\n",
       "      <td>NaN</td>\n",
       "      <td>NaN</td>\n",
       "      <td>NaN</td>\n",
       "      <td>NaN</td>\n",
       "      <td>3</td>\n",
       "      <td>NaN</td>\n",
       "      <td>NaN</td>\n",
       "    </tr>\n",
       "    <tr>\n",
       "      <th>top</th>\n",
       "      <td>NaN</td>\n",
       "      <td>NaN</td>\n",
       "      <td>NaN</td>\n",
       "      <td>NaN</td>\n",
       "      <td>NaN</td>\n",
       "      <td>credit_card</td>\n",
       "      <td>NaN</td>\n",
       "      <td>NaN</td>\n",
       "    </tr>\n",
       "    <tr>\n",
       "      <th>freq</th>\n",
       "      <td>NaN</td>\n",
       "      <td>NaN</td>\n",
       "      <td>NaN</td>\n",
       "      <td>NaN</td>\n",
       "      <td>NaN</td>\n",
       "      <td>1698</td>\n",
       "      <td>NaN</td>\n",
       "      <td>NaN</td>\n",
       "    </tr>\n",
       "    <tr>\n",
       "      <th>mean</th>\n",
       "      <td>2499.584540</td>\n",
       "      <td>49.900877</td>\n",
       "      <td>849.858862</td>\n",
       "      <td>300.155823</td>\n",
       "      <td>1.995717</td>\n",
       "      <td>NaN</td>\n",
       "      <td>2017-03-15 22:10:55.943299840</td>\n",
       "      <td>150.400163</td>\n",
       "    </tr>\n",
       "    <tr>\n",
       "      <th>min</th>\n",
       "      <td>1.000000</td>\n",
       "      <td>1.000000</td>\n",
       "      <td>700.000000</td>\n",
       "      <td>90.000000</td>\n",
       "      <td>1.000000</td>\n",
       "      <td>NaN</td>\n",
       "      <td>2017-03-01 00:08:09</td>\n",
       "      <td>90.000000</td>\n",
       "    </tr>\n",
       "    <tr>\n",
       "      <th>25%</th>\n",
       "      <td>1246.500000</td>\n",
       "      <td>24.000000</td>\n",
       "      <td>776.000000</td>\n",
       "      <td>163.000000</td>\n",
       "      <td>1.000000</td>\n",
       "      <td>NaN</td>\n",
       "      <td>2017-03-08 06:23:40</td>\n",
       "      <td>132.000000</td>\n",
       "    </tr>\n",
       "    <tr>\n",
       "      <th>50%</th>\n",
       "      <td>2499.000000</td>\n",
       "      <td>50.000000</td>\n",
       "      <td>850.000000</td>\n",
       "      <td>284.000000</td>\n",
       "      <td>2.000000</td>\n",
       "      <td>NaN</td>\n",
       "      <td>2017-03-15 23:46:37</td>\n",
       "      <td>153.000000</td>\n",
       "    </tr>\n",
       "    <tr>\n",
       "      <th>75%</th>\n",
       "      <td>3750.500000</td>\n",
       "      <td>74.000000</td>\n",
       "      <td>925.000000</td>\n",
       "      <td>386.500000</td>\n",
       "      <td>3.000000</td>\n",
       "      <td>NaN</td>\n",
       "      <td>2017-03-23 10:28:42</td>\n",
       "      <td>166.000000</td>\n",
       "    </tr>\n",
       "    <tr>\n",
       "      <th>max</th>\n",
       "      <td>5000.000000</td>\n",
       "      <td>100.000000</td>\n",
       "      <td>999.000000</td>\n",
       "      <td>1086.000000</td>\n",
       "      <td>8.000000</td>\n",
       "      <td>NaN</td>\n",
       "      <td>2017-03-30 23:55:35</td>\n",
       "      <td>201.000000</td>\n",
       "    </tr>\n",
       "    <tr>\n",
       "      <th>std</th>\n",
       "      <td>1444.221163</td>\n",
       "      <td>29.154367</td>\n",
       "      <td>86.887947</td>\n",
       "      <td>155.941112</td>\n",
       "      <td>0.982602</td>\n",
       "      <td>NaN</td>\n",
       "      <td>NaN</td>\n",
       "      <td>23.851202</td>\n",
       "    </tr>\n",
       "  </tbody>\n",
       "</table>\n",
       "</div>"
      ],
      "text/plain": [
       "           order_id      shop_id      user_id  order_amount  total_items  \\\n",
       "count   4903.000000  4903.000000  4903.000000   4903.000000  4903.000000   \n",
       "unique          NaN          NaN          NaN           NaN          NaN   \n",
       "top             NaN          NaN          NaN           NaN          NaN   \n",
       "freq            NaN          NaN          NaN           NaN          NaN   \n",
       "mean    2499.584540    49.900877   849.858862    300.155823     1.995717   \n",
       "min        1.000000     1.000000   700.000000     90.000000     1.000000   \n",
       "25%     1246.500000    24.000000   776.000000    163.000000     1.000000   \n",
       "50%     2499.000000    50.000000   850.000000    284.000000     2.000000   \n",
       "75%     3750.500000    74.000000   925.000000    386.500000     3.000000   \n",
       "max     5000.000000   100.000000   999.000000   1086.000000     8.000000   \n",
       "std     1444.221163    29.154367    86.887947    155.941112     0.982602   \n",
       "\n",
       "       payment_method                     created_at  price_per_item  \n",
       "count            4903                           4903     4903.000000  \n",
       "unique              3                            NaN             NaN  \n",
       "top       credit_card                            NaN             NaN  \n",
       "freq             1698                            NaN             NaN  \n",
       "mean              NaN  2017-03-15 22:10:55.943299840      150.400163  \n",
       "min               NaN            2017-03-01 00:08:09       90.000000  \n",
       "25%               NaN            2017-03-08 06:23:40      132.000000  \n",
       "50%               NaN            2017-03-15 23:46:37      153.000000  \n",
       "75%               NaN            2017-03-23 10:28:42      166.000000  \n",
       "max               NaN            2017-03-30 23:55:35      201.000000  \n",
       "std               NaN                            NaN       23.851202  "
      ]
     },
     "execution_count": 38,
     "metadata": {},
     "output_type": "execute_result"
    }
   ],
   "source": [
    "df_other_shops.describe(include='all', datetime_is_numeric=True)"
   ]
  },
  {
   "cell_type": "markdown",
   "metadata": {},
   "source": [
    "#### Question 2: What metric would you report for this dataset?\n",
    "If an immediate metric was necessary, I would provide the median and mode metrics for order_amount. If I had an hour or so to analyze the data to understand its outliers, I would also provide the mean and standard deviation of order_amount after removing outliers.\n"
   ]
  },
  {
   "cell_type": "markdown",
   "metadata": {},
   "source": [
    "#### Question 3: What is its value?\n",
    "##### Interpretation 1: What is the numerical value of this metric?\n",
    "1. The median order_amount is $284.00.\n",
    "2. The mode of order_amount is $153.00 and the second most frequent order_amount is $306.00\n",
    "3. The mean order_amount after removing outliers (records with shop_id 42 or 78) is $300.16.\n",
    "4. The standard deviation of order_amount after removing outliers (records with shop_id 42 or 78) is $155.94.\n",
    "\n",
    "##### Interpretation 2: Why is this metric valuable?\n",
    "- These measures of central tendency (mean, median, and mode) give us an idea of a central point around which the rest of our data are distributed.\n",
    "- Measures of central variability, such as standard deviation, describe how spread out our data is from its mean. \n",
    "- By combining these measures of central tendency and central variability, we can develop a pretty good intuition of where our data is distributed and how spread out it is.\n"
   ]
  },
  {
   "cell_type": "markdown",
   "metadata": {},
   "source": [
    "## Step 5: Due Diligence\n",
    "There are, of course, other ways to identify outliers. And while I'm satisfied with the quality of my analysis thus far, let's try a different method for the sake of due diligence.\n",
    "\n",
    "The interquartile range (IQR) is the distance between the first and third quartiles. It is a measure of the spread of the data. And we can use it to identify outliers."
   ]
  },
  {
   "cell_type": "code",
   "execution_count": 39,
   "metadata": {},
   "outputs": [
    {
     "name": "stdout",
     "output_type": "stream",
     "text": [
      "quartile_1: 163.0\n",
      "quartile_3: 390.0\n",
      "iqr: 227.0\n"
     ]
    }
   ],
   "source": [
    "quartile_1 = df.order_amount.quantile(0.25)\n",
    "quartile_3 = df.order_amount.quantile(0.75)\n",
    "\n",
    "print(f'quartile_1: {quartile_1}')\n",
    "print(f'quartile_3: {quartile_3}')\n",
    "\n",
    "iqr = quartile_3 - quartile_1\n",
    "print(f'iqr: {iqr}')"
   ]
  },
  {
   "cell_type": "markdown",
   "metadata": {},
   "source": [
    "We use these values to determine upper and lower bounds for acceptable values. All values outside these bounds we will condsider outliers.\n",
    "\n",
    "- Lower bound: quartile_1 - (1.5 * IQR)\n",
    "- Upper bound: quartile_3 + (1.5 * IQR)"
   ]
  },
  {
   "cell_type": "code",
   "execution_count": 40,
   "metadata": {},
   "outputs": [
    {
     "name": "stdout",
     "output_type": "stream",
     "text": [
      "lower_bound: -177.5\n",
      "upper_bound: 730.5\n"
     ]
    }
   ],
   "source": [
    "lower_bound = quartile_1 - (iqr * 1.5)\n",
    "upper_bound = quartile_3 + (iqr * 1.5)\n",
    "\n",
    "print(f'lower_bound: {lower_bound}')\n",
    "print(f'upper_bound: {upper_bound}')\n"
   ]
  },
  {
   "cell_type": "markdown",
   "metadata": {},
   "source": [
    "Now we can use these bounds to identify outliers. We will add a new Boolean column to our dataframe called is_outlier. This field will be 1 if the value is an outlier and 0 if it is not."
   ]
  },
  {
   "cell_type": "code",
   "execution_count": 41,
   "metadata": {},
   "outputs": [
    {
     "data": {
      "text/html": [
       "<div>\n",
       "<style scoped>\n",
       "    .dataframe tbody tr th:only-of-type {\n",
       "        vertical-align: middle;\n",
       "    }\n",
       "\n",
       "    .dataframe tbody tr th {\n",
       "        vertical-align: top;\n",
       "    }\n",
       "\n",
       "    .dataframe thead th {\n",
       "        text-align: right;\n",
       "    }\n",
       "</style>\n",
       "<table border=\"1\" class=\"dataframe\">\n",
       "  <thead>\n",
       "    <tr style=\"text-align: right;\">\n",
       "      <th></th>\n",
       "      <th>order_id</th>\n",
       "      <th>shop_id</th>\n",
       "      <th>user_id</th>\n",
       "      <th>order_amount</th>\n",
       "      <th>total_items</th>\n",
       "      <th>payment_method</th>\n",
       "      <th>created_at</th>\n",
       "      <th>price_per_item</th>\n",
       "      <th>is_outlier</th>\n",
       "    </tr>\n",
       "  </thead>\n",
       "  <tbody>\n",
       "    <tr>\n",
       "      <th>0</th>\n",
       "      <td>1</td>\n",
       "      <td>53</td>\n",
       "      <td>746</td>\n",
       "      <td>224</td>\n",
       "      <td>2</td>\n",
       "      <td>cash</td>\n",
       "      <td>2017-03-13 12:36:56</td>\n",
       "      <td>112.0</td>\n",
       "      <td>0</td>\n",
       "    </tr>\n",
       "    <tr>\n",
       "      <th>1</th>\n",
       "      <td>2</td>\n",
       "      <td>92</td>\n",
       "      <td>925</td>\n",
       "      <td>90</td>\n",
       "      <td>1</td>\n",
       "      <td>cash</td>\n",
       "      <td>2017-03-03 17:38:52</td>\n",
       "      <td>90.0</td>\n",
       "      <td>0</td>\n",
       "    </tr>\n",
       "    <tr>\n",
       "      <th>2</th>\n",
       "      <td>3</td>\n",
       "      <td>44</td>\n",
       "      <td>861</td>\n",
       "      <td>144</td>\n",
       "      <td>1</td>\n",
       "      <td>cash</td>\n",
       "      <td>2017-03-14 04:23:56</td>\n",
       "      <td>144.0</td>\n",
       "      <td>0</td>\n",
       "    </tr>\n",
       "    <tr>\n",
       "      <th>3</th>\n",
       "      <td>4</td>\n",
       "      <td>18</td>\n",
       "      <td>935</td>\n",
       "      <td>156</td>\n",
       "      <td>1</td>\n",
       "      <td>credit_card</td>\n",
       "      <td>2017-03-26 12:43:37</td>\n",
       "      <td>156.0</td>\n",
       "      <td>0</td>\n",
       "    </tr>\n",
       "    <tr>\n",
       "      <th>4</th>\n",
       "      <td>5</td>\n",
       "      <td>18</td>\n",
       "      <td>883</td>\n",
       "      <td>156</td>\n",
       "      <td>1</td>\n",
       "      <td>credit_card</td>\n",
       "      <td>2017-03-01 04:35:11</td>\n",
       "      <td>156.0</td>\n",
       "      <td>0</td>\n",
       "    </tr>\n",
       "  </tbody>\n",
       "</table>\n",
       "</div>"
      ],
      "text/plain": [
       "   order_id  shop_id  user_id  order_amount  total_items payment_method  \\\n",
       "0         1       53      746           224            2           cash   \n",
       "1         2       92      925            90            1           cash   \n",
       "2         3       44      861           144            1           cash   \n",
       "3         4       18      935           156            1    credit_card   \n",
       "4         5       18      883           156            1    credit_card   \n",
       "\n",
       "           created_at  price_per_item  is_outlier  \n",
       "0 2017-03-13 12:36:56           112.0           0  \n",
       "1 2017-03-03 17:38:52            90.0           0  \n",
       "2 2017-03-14 04:23:56           144.0           0  \n",
       "3 2017-03-26 12:43:37           156.0           0  \n",
       "4 2017-03-01 04:35:11           156.0           0  "
      ]
     },
     "execution_count": 41,
     "metadata": {},
     "output_type": "execute_result"
    }
   ],
   "source": [
    "df[\"is_outlier\"] = df.order_amount.apply(lambda x: 1 if x < lower_bound or x > upper_bound else 0)\n",
    "df.head()"
   ]
  },
  {
   "cell_type": "markdown",
   "metadata": {},
   "source": [
    "Now we can create a new dataframe that only contains values that are NOT outliers."
   ]
  },
  {
   "cell_type": "code",
   "execution_count": 42,
   "metadata": {},
   "outputs": [
    {
     "data": {
      "text/html": [
       "<div>\n",
       "<style scoped>\n",
       "    .dataframe tbody tr th:only-of-type {\n",
       "        vertical-align: middle;\n",
       "    }\n",
       "\n",
       "    .dataframe tbody tr th {\n",
       "        vertical-align: top;\n",
       "    }\n",
       "\n",
       "    .dataframe thead th {\n",
       "        text-align: right;\n",
       "    }\n",
       "</style>\n",
       "<table border=\"1\" class=\"dataframe\">\n",
       "  <thead>\n",
       "    <tr style=\"text-align: right;\">\n",
       "      <th></th>\n",
       "      <th>order_id</th>\n",
       "      <th>shop_id</th>\n",
       "      <th>user_id</th>\n",
       "      <th>order_amount</th>\n",
       "      <th>total_items</th>\n",
       "      <th>payment_method</th>\n",
       "      <th>created_at</th>\n",
       "      <th>price_per_item</th>\n",
       "      <th>is_outlier</th>\n",
       "    </tr>\n",
       "  </thead>\n",
       "  <tbody>\n",
       "    <tr>\n",
       "      <th>count</th>\n",
       "      <td>4859.000000</td>\n",
       "      <td>4859.000000</td>\n",
       "      <td>4859.000000</td>\n",
       "      <td>4859.000000</td>\n",
       "      <td>4859.000000</td>\n",
       "      <td>4859</td>\n",
       "      <td>4859</td>\n",
       "      <td>4859.000000</td>\n",
       "      <td>4859.0</td>\n",
       "    </tr>\n",
       "    <tr>\n",
       "      <th>unique</th>\n",
       "      <td>NaN</td>\n",
       "      <td>NaN</td>\n",
       "      <td>NaN</td>\n",
       "      <td>NaN</td>\n",
       "      <td>NaN</td>\n",
       "      <td>3</td>\n",
       "      <td>NaN</td>\n",
       "      <td>NaN</td>\n",
       "      <td>NaN</td>\n",
       "    </tr>\n",
       "    <tr>\n",
       "      <th>top</th>\n",
       "      <td>NaN</td>\n",
       "      <td>NaN</td>\n",
       "      <td>NaN</td>\n",
       "      <td>NaN</td>\n",
       "      <td>NaN</td>\n",
       "      <td>credit_card</td>\n",
       "      <td>NaN</td>\n",
       "      <td>NaN</td>\n",
       "      <td>NaN</td>\n",
       "    </tr>\n",
       "    <tr>\n",
       "      <th>freq</th>\n",
       "      <td>NaN</td>\n",
       "      <td>NaN</td>\n",
       "      <td>NaN</td>\n",
       "      <td>NaN</td>\n",
       "      <td>NaN</td>\n",
       "      <td>1680</td>\n",
       "      <td>NaN</td>\n",
       "      <td>NaN</td>\n",
       "      <td>NaN</td>\n",
       "    </tr>\n",
       "    <tr>\n",
       "      <th>mean</th>\n",
       "      <td>2497.395966</td>\n",
       "      <td>49.852645</td>\n",
       "      <td>849.905742</td>\n",
       "      <td>293.715374</td>\n",
       "      <td>1.950196</td>\n",
       "      <td>NaN</td>\n",
       "      <td>2017-03-15 22:19:11.362625792</td>\n",
       "      <td>151.265281</td>\n",
       "      <td>0.0</td>\n",
       "    </tr>\n",
       "    <tr>\n",
       "      <th>min</th>\n",
       "      <td>1.000000</td>\n",
       "      <td>1.000000</td>\n",
       "      <td>700.000000</td>\n",
       "      <td>90.000000</td>\n",
       "      <td>1.000000</td>\n",
       "      <td>NaN</td>\n",
       "      <td>2017-03-01 00:08:09</td>\n",
       "      <td>90.000000</td>\n",
       "      <td>0.0</td>\n",
       "    </tr>\n",
       "    <tr>\n",
       "      <th>25%</th>\n",
       "      <td>1244.500000</td>\n",
       "      <td>24.000000</td>\n",
       "      <td>776.000000</td>\n",
       "      <td>162.000000</td>\n",
       "      <td>1.000000</td>\n",
       "      <td>NaN</td>\n",
       "      <td>2017-03-08 06:39:28</td>\n",
       "      <td>132.000000</td>\n",
       "      <td>0.0</td>\n",
       "    </tr>\n",
       "    <tr>\n",
       "      <th>50%</th>\n",
       "      <td>2498.000000</td>\n",
       "      <td>50.000000</td>\n",
       "      <td>850.000000</td>\n",
       "      <td>280.000000</td>\n",
       "      <td>2.000000</td>\n",
       "      <td>NaN</td>\n",
       "      <td>2017-03-16 00:16:50</td>\n",
       "      <td>153.000000</td>\n",
       "      <td>0.0</td>\n",
       "    </tr>\n",
       "    <tr>\n",
       "      <th>75%</th>\n",
       "      <td>3749.500000</td>\n",
       "      <td>74.000000</td>\n",
       "      <td>925.000000</td>\n",
       "      <td>380.000000</td>\n",
       "      <td>3.000000</td>\n",
       "      <td>NaN</td>\n",
       "      <td>2017-03-23 10:40:17.500000</td>\n",
       "      <td>166.000000</td>\n",
       "      <td>0.0</td>\n",
       "    </tr>\n",
       "    <tr>\n",
       "      <th>max</th>\n",
       "      <td>5000.000000</td>\n",
       "      <td>100.000000</td>\n",
       "      <td>999.000000</td>\n",
       "      <td>730.000000</td>\n",
       "      <td>5.000000</td>\n",
       "      <td>NaN</td>\n",
       "      <td>2017-03-30 23:55:35</td>\n",
       "      <td>352.000000</td>\n",
       "      <td>0.0</td>\n",
       "    </tr>\n",
       "    <tr>\n",
       "      <th>std</th>\n",
       "      <td>1443.356555</td>\n",
       "      <td>29.049171</td>\n",
       "      <td>86.887496</td>\n",
       "      <td>144.453395</td>\n",
       "      <td>0.919791</td>\n",
       "      <td>NaN</td>\n",
       "      <td>NaN</td>\n",
       "      <td>28.221347</td>\n",
       "      <td>0.0</td>\n",
       "    </tr>\n",
       "  </tbody>\n",
       "</table>\n",
       "</div>"
      ],
      "text/plain": [
       "           order_id      shop_id      user_id  order_amount  total_items  \\\n",
       "count   4859.000000  4859.000000  4859.000000   4859.000000  4859.000000   \n",
       "unique          NaN          NaN          NaN           NaN          NaN   \n",
       "top             NaN          NaN          NaN           NaN          NaN   \n",
       "freq            NaN          NaN          NaN           NaN          NaN   \n",
       "mean    2497.395966    49.852645   849.905742    293.715374     1.950196   \n",
       "min        1.000000     1.000000   700.000000     90.000000     1.000000   \n",
       "25%     1244.500000    24.000000   776.000000    162.000000     1.000000   \n",
       "50%     2498.000000    50.000000   850.000000    280.000000     2.000000   \n",
       "75%     3749.500000    74.000000   925.000000    380.000000     3.000000   \n",
       "max     5000.000000   100.000000   999.000000    730.000000     5.000000   \n",
       "std     1443.356555    29.049171    86.887496    144.453395     0.919791   \n",
       "\n",
       "       payment_method                     created_at  price_per_item  \\\n",
       "count            4859                           4859     4859.000000   \n",
       "unique              3                            NaN             NaN   \n",
       "top       credit_card                            NaN             NaN   \n",
       "freq             1680                            NaN             NaN   \n",
       "mean              NaN  2017-03-15 22:19:11.362625792      151.265281   \n",
       "min               NaN            2017-03-01 00:08:09       90.000000   \n",
       "25%               NaN            2017-03-08 06:39:28      132.000000   \n",
       "50%               NaN            2017-03-16 00:16:50      153.000000   \n",
       "75%               NaN     2017-03-23 10:40:17.500000      166.000000   \n",
       "max               NaN            2017-03-30 23:55:35      352.000000   \n",
       "std               NaN                            NaN       28.221347   \n",
       "\n",
       "        is_outlier  \n",
       "count       4859.0  \n",
       "unique         NaN  \n",
       "top            NaN  \n",
       "freq           NaN  \n",
       "mean           0.0  \n",
       "min            0.0  \n",
       "25%            0.0  \n",
       "50%            0.0  \n",
       "75%            0.0  \n",
       "max            0.0  \n",
       "std            0.0  "
      ]
     },
     "execution_count": 42,
     "metadata": {},
     "output_type": "execute_result"
    }
   ],
   "source": [
    "df_outliers_removed = df.loc[df.is_outlier == 0]\n",
    "df_outliers_removed.describe(include='all', datetime_is_numeric=True)"
   ]
  },
  {
   "cell_type": "markdown",
   "metadata": {},
   "source": [
    "We can see that all summary measures for order amount, total_items, and price_per_item are reasonable. This would have been another way to handle outliers in our dataset."
   ]
  },
  {
   "cell_type": "markdown",
   "metadata": {},
   "source": [
    "How many rows were removed?"
   ]
  },
  {
   "cell_type": "code",
   "execution_count": 43,
   "metadata": {},
   "outputs": [
    {
     "name": "stdout",
     "output_type": "stream",
     "text": [
      "Rows in original df: 5000\n",
      "Rows in df_outliers_removed: 4859\n",
      "Rows removed: 141\n",
      "Percent removed: 2.82%\n"
     ]
    }
   ],
   "source": [
    "print(f'Rows in original df: {len(df)}')\n",
    "print(f'Rows in df_outliers_removed: {len(df_outliers_removed)}')\n",
    "\n",
    "rows_removed = len(df) - len(df_outliers_removed)\n",
    "print(f'Rows removed: {rows_removed}')\n",
    "\n",
    "percent_removed = rows_removed / len(df) * 100\n",
    "print(f'Percent removed: {percent_removed:.2f}%')"
   ]
  },
  {
   "cell_type": "markdown",
   "metadata": {},
   "source": [
    "## Step 6: Conclusion\n",
    "\n",
    "This was a fun challenge! I feel like we were able to quickly identify some outliers and remove them from our data. After that, I think the data started to really make sense, and could possibly be used to help us understand shoe sells on Shopify stores.\n",
    "\n",
    "From here, I still have a few questions that could be worth investigating.\n",
    "1. What is up with shop 42 and all the orders to user 607? Why did they place 17 orders for 2,000 pairs of shoes in a single month? \n",
    "2. Does shop 78 really sell shoes at $25,725? Do they have rockets built in? \n",
    "3. Why is there a that strange gap at about $200 in the scatterplot above? why are there no orders at $200? It might not be important, it just seems weird.\n",
    "4. How does this month's data compare to other months? Can we use historical monthly sales data to predict future sales?"
   ]
  }
 ],
 "metadata": {
  "interpreter": {
   "hash": "b3ba2566441a7c06988d0923437866b63cedc61552a5af99d1f4fb67d367b25f"
  },
  "kernelspec": {
   "display_name": "Python 3.9.7 ('base')",
   "language": "python",
   "name": "python3"
  },
  "language_info": {
   "codemirror_mode": {
    "name": "ipython",
    "version": 3
   },
   "file_extension": ".py",
   "mimetype": "text/x-python",
   "name": "python",
   "nbconvert_exporter": "python",
   "pygments_lexer": "ipython3",
   "version": "3.9.7"
  },
  "orig_nbformat": 4
 },
 "nbformat": 4,
 "nbformat_minor": 2
}
